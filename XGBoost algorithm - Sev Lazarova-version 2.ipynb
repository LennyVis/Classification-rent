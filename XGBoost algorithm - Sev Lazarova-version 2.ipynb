{
 "cells": [
  {
   "cell_type": "markdown",
   "metadata": {},
   "source": [
    "## Preparing the data set\n",
    "\n",
    "The first step before running the clustering algorithm is to prepare the training and the testing data set. \n"
   ]
  },
  {
   "cell_type": "code",
   "execution_count": 1,
   "metadata": {
    "collapsed": false
   },
   "outputs": [],
   "source": [
    "import pandas as pd\n",
    "import numpy as np\n",
    "import matplotlib.pyplot as plt\n",
    "import seaborn as sns\n",
    "import warnings\n",
    "warnings.filterwarnings('ignore')\n",
    "\n",
    "sns.set(style=\"whitegrid\", color_codes=True)\n",
    "sns.palplot(sns.color_palette(\"RdBu\", n_colors=7))\n",
    "\n",
    "fileNameTrain = \"C:\\\\Users\\\\sevda\\\\Documents\\\\Data Lab\\\\Six sigma rental property\\\\train.json\\\\train.json\"\n",
    "train_df = pd.read_json(fileNameTrain)\n",
    "\n",
    "fileNameTest = \"C:\\\\Users\\\\sevda\\\\Documents\\\\Data Lab\\\\Six sigma rental property\\\\test.json\\\\test.json\"\n",
    "test_df = pd.read_json(fileNameTest)\n",
    "\n"
   ]
  },
  {
   "cell_type": "markdown",
   "metadata": {},
   "source": [
    "As a next step, we will extract the key words from the description variable - by key words, we define words that are in the description of the unit but are not stop words as defined by the ntlk.corpus package."
   ]
  },
  {
   "cell_type": "code",
   "execution_count": 2,
   "metadata": {
    "collapsed": true
   },
   "outputs": [],
   "source": [
    "from nltk.corpus import stopwords\n",
    "\n",
    "cachedStopWords = stopwords.words(\"english\")\n",
    "\n",
    "description_key_words_ls = []\n",
    "\n",
    "for ind, row in train_df.iterrows():\n",
    "        #print(row['features'])\n",
    "        #description = description.lower()\n",
    "        description = row['description'].lower().rstrip(',?!.')\n",
    "        description = ' '.join([word for word in description.split() if word not in cachedStopWords])\n",
    "        description_ls = description.split(\" \")\n",
    "        description_key_words_ls += [description_ls]\n",
    "\n",
    "train_df['description_key_words'] = pd.Series(description_key_words_ls, index=train_df.index)\n",
    "\n",
    "description_key_words_ls = []\n",
    "\n",
    "for ind, row in test_df.iterrows():\n",
    "        #print(row['features'])\n",
    "        #description = description.lower()\n",
    "        description = row['description'].lower().rstrip(',?!.')\n",
    "        description = ' '.join([word for word in description.split() if word not in cachedStopWords])\n",
    "        description_ls = description.split(\" \")\n",
    "        description_key_words_ls += [description_ls]\n",
    "\n",
    "test_df['description_key_words'] = pd.Series(description_key_words_ls, index=test_df.index)"
   ]
  },
  {
   "cell_type": "markdown",
   "metadata": {},
   "source": [
    "We will create two numeric variables which describe the number of features and number of key words in the description section"
   ]
  },
  {
   "cell_type": "code",
   "execution_count": 3,
   "metadata": {
    "collapsed": true
   },
   "outputs": [],
   "source": [
    "train_df['num_features'] = train_df.features.apply(len)\n",
    "train_df['num_key_words_description'] = train_df.description_key_words.apply(len)\n",
    "\n",
    "test_df['num_features'] = test_df.features.apply(len)\n",
    "test_df['num_key_words_description'] = test_df.description_key_words.apply(len)"
   ]
  },
  {
   "cell_type": "markdown",
   "metadata": {},
   "source": [
    "From the Created variable, we will extract into new variables the exact data when the listing was created, the day of year, week of year, weekday and hour."
   ]
  },
  {
   "cell_type": "code",
   "execution_count": 4,
   "metadata": {
    "collapsed": true
   },
   "outputs": [],
   "source": [
    "train_df[\"created\"] = pd.to_datetime(train_df[\"created\"])\n",
    "train_df[\"date\"]= train_df[\"created\"].dt.date\n",
    "\n",
    "train_df[\"dayofyear\"] = train_df[\"created\"].dt.dayofyear\n",
    "train_df[\"weekofyear\"] = train_df[\"created\"].dt.weekofyear\n",
    "train_df[\"weekday\"] = train_df[\"created\"].dt.weekday\n",
    "train_df[\"hour\"] = train_df[\"created\"].dt.hour\n",
    "\n",
    "test_df[\"created\"] = pd.to_datetime(test_df[\"created\"])\n",
    "test_df[\"date\"]= test_df[\"created\"].dt.date\n",
    "\n",
    "test_df[\"dayofyear\"] = test_df[\"created\"].dt.dayofyear\n",
    "test_df[\"weekofyear\"] = test_df[\"created\"].dt.weekofyear\n",
    "test_df[\"weekday\"] = test_df[\"created\"].dt.weekday\n",
    "test_df[\"hour\"] = test_df[\"created\"].dt.hour"
   ]
  },
  {
   "cell_type": "markdown",
   "metadata": {},
   "source": [
    "We will also add the number of photos of each listing as a new variable in the training and testing dataframe."
   ]
  },
  {
   "cell_type": "code",
   "execution_count": 5,
   "metadata": {
    "collapsed": false
   },
   "outputs": [],
   "source": [
    "train_df[\"num_photos\"] = train_df[\"photos\"].apply(len)\n",
    "test_df[\"num_photos\"] = test_df[\"photos\"].apply(len)\n"
   ]
  },
  {
   "cell_type": "markdown",
   "metadata": {},
   "source": [
    "The train and the test data set are ready so the next step is to apply the XGBoost algorithm.\n"
   ]
  },
  {
   "cell_type": "code",
   "execution_count": 6,
   "metadata": {
    "collapsed": false
   },
   "outputs": [
    {
     "name": "stderr",
     "output_type": "stream",
     "text": [
      "C:\\Users\\sevda\\Anaconda3\\lib\\site-packages\\sklearn\\cross_validation.py:44: DeprecationWarning: This module was deprecated in version 0.18 in favor of the model_selection module into which all the refactored classes and functions are moved. Also note that the interface of the new CV iterators are different from that of this module. This module will be removed in 0.20.\n",
      "  \"This module will be removed in 0.20.\", DeprecationWarning)\n",
      "C:\\Users\\sevda\\Anaconda3\\lib\\site-packages\\sklearn\\grid_search.py:43: DeprecationWarning: This module was deprecated in version 0.18 in favor of the model_selection module into which all the refactored classes and functions are moved. This module will be removed in 0.20.\n",
      "  DeprecationWarning)\n"
     ]
    }
   ],
   "source": [
    "import xgboost as xgb\n",
    "from xgboost.sklearn import XGBClassifier\n",
    "from sklearn import cross_validation, metrics   #Additional scklearn functions\n",
    "from sklearn.grid_search import GridSearchCV   #Perforing grid search\n",
    "\n",
    "alg = XGBClassifier(\n",
    "                     learning_rate =0.1,\n",
    "                     n_estimators=1000,\n",
    "                     max_depth=5,\n",
    "                     min_child_weight=1,\n",
    "                     gamma=0,\n",
    "                     subsample=0.8,\n",
    "                     colsample_bytree=0.8,\n",
    "                     objective= 'multi:softprob; num_class=3',\n",
    "                     nthread=4,\n",
    "                     scale_pos_weight=1,\n",
    "                     seed=27)\n",
    "    \n",
    "def modelXGBfit(alg, train_df, test_df, predictors, target, target_num_map, cv_folds=5, early_stopping_rounds=50):\n",
    "    \n",
    "   \n",
    "    \n",
    "    #Fit the algorithm on the data\n",
    "    #alg.set_params(n_estimators = 3)\n",
    "    train_target = pd.DataFrame(train_df['interest_level'].apply(lambda x: target_num_map[x]))\n",
    "    alg.fit(train_df[predictors], train_target)\n",
    "        \n",
    "    #Predict training set:\n",
    "    train_predictions = alg.predict(train_df[predictors])\n",
    "    train_predprob = alg.predict_proba(train_df[predictors])\n",
    "        \n",
    "    #Print model report:\n",
    "    print (\"\\nModel Report\")\n",
    "    print (\"Accuracy : %.4g\" % metrics.accuracy_score(train_target, train_predictions))\n",
    "                    \n",
    "    feat_imp = pd.Series(alg.booster().get_fscore()).sort_values(ascending=False)\n",
    "    feat_imp.plot(kind='bar', title='Feature Importances')\n",
    "    plt.ylabel('Feature Importance Score')\n",
    "    plt.show()\n",
    "    \n",
    "    #Predicting on the test data set\n",
    "    test_predictions = alg.predict(test_df[predictors])\n",
    "    test_predprob = alg.predict_proba(test_df[predictors])\n",
    "    return test_predictions, test_predprob, alg\n"
   ]
  },
  {
   "cell_type": "markdown",
   "metadata": {},
   "source": [
    "We will use the modelXGBfit function to run the model. The function defines some of the paramteres needed by the xgboost algorithm. We will apply the algorithm to the train data set with the pre selected variables and target variable \"interest_level\"."
   ]
  },
  {
   "cell_type": "code",
   "execution_count": 8,
   "metadata": {
    "collapsed": false
   },
   "outputs": [
    {
     "name": "stdout",
     "output_type": "stream",
     "text": [
      "        bathrooms  bedrooms                       building_id  \\\n",
      "10            1.5         3  53a5b119ba8f7b61d4e010512e0dfc85   \n",
      "10000         1.0         2  c5c8a357cba207596b04d1afd1e4f130   \n",
      "100004        1.0         1  c3ba40552e2120b0acfc3cb5730bb2aa   \n",
      "100007        1.0         1  28d9ad350afeaab8027513a3e52ac8d5   \n",
      "100013        1.0         4                                 0   \n",
      "\n",
      "                   created                                        description  \\\n",
      "10     2016-06-24 07:54:24  A Brand New 3 Bedroom 1.5 bath ApartmentEnjoy ...   \n",
      "10000  2016-06-12 12:19:27                                                      \n",
      "100004 2016-04-17 03:26:41  Top Top West Village location, beautiful Pre-w...   \n",
      "100007 2016-04-18 02:22:02  Building Amenities - Garage - Garden - fitness...   \n",
      "100013 2016-04-28 01:32:41  Beautifully renovated 3 bedroom flex 4 bedroom...   \n",
      "\n",
      "            display_address  \\\n",
      "10      Metropolitan Avenue   \n",
      "10000       Columbus Avenue   \n",
      "100004          W 13 Street   \n",
      "100007     East 49th Street   \n",
      "100013    West 143rd Street   \n",
      "\n",
      "                                                 features interest_level  \\\n",
      "10                                                     []         medium   \n",
      "10000   [Doorman, Elevator, Fitness Center, Cats Allow...            low   \n",
      "100004  [Laundry In Building, Dishwasher, Hardwood Flo...           high   \n",
      "100007                          [Hardwood Floors, No Fee]            low   \n",
      "100013                                          [Pre-War]            low   \n",
      "\n",
      "        latitude  listing_id     ...               street_address  \\\n",
      "10       40.7145     7211212     ...      792 Metropolitan Avenue   \n",
      "10000    40.7947     7150865     ...          808 Columbus Avenue   \n",
      "100004   40.7388     6887163     ...              241 W 13 Street   \n",
      "100007   40.7539     6888711     ...         333 East 49th Street   \n",
      "100013   40.8241     6934781     ...        500 West 143rd Street   \n",
      "\n",
      "                                    description_key_words num_features  \\\n",
      "10      [brand, new, 3, bedroom, 1.5, bath, apartmente...            0   \n",
      "10000                                                  []            5   \n",
      "100004  [top, top, west, village, location,, beautiful...            4   \n",
      "100007  [building, amenities, -, garage, -, garden, -,...            2   \n",
      "100013  [beautifully, renovated, 3, bedroom, flex, 4, ...            1   \n",
      "\n",
      "        num_key_words_description        date dayofyear  weekofyear  weekday  \\\n",
      "10                             77  2016-06-24       176          25        4   \n",
      "10000                           1  2016-06-12       164          23        6   \n",
      "100004                         67  2016-04-17       108          15        6   \n",
      "100007                         66  2016-04-18       109          16        0   \n",
      "100013                         47  2016-04-28       119          17        3   \n",
      "\n",
      "       hour  num_photos  \n",
      "10        7           5  \n",
      "10000    12          11  \n",
      "100004    3           8  \n",
      "100007    2           3  \n",
      "100013    1           3  \n",
      "\n",
      "[5 rows x 24 columns]\n"
     ]
    }
   ],
   "source": [
    "print(train_df.head())"
   ]
  },
  {
   "cell_type": "code",
   "execution_count": 9,
   "metadata": {
    "collapsed": false
   },
   "outputs": [
    {
     "name": "stdout",
     "output_type": "stream",
     "text": [
      "\n",
      "Model Report\n",
      "Accuracy : 0.8607\n"
     ]
    },
    {
     "data": {
      "image/png": "[encoded data removed]",
      "text/plain": [
       "<matplotlib.figure.Figure at 0x1f4c6ddc518>"
      ]
     },
     "metadata": {},
     "output_type": "display_data"
    }
   ],
   "source": [
    "selected_vars  = [\"bathrooms\", \"bedrooms\", \"price\", \"num_features\", \"num_key_words_description\",\n",
    "                   \"dayofyear\", \"weekofyear\", \"weekday\", \"hour\", \"num_photos\", \"latitude\", \"longitude\"]\n",
    "\n",
    "#neighbourhood_dummies = list(set(neighbourhood_dummies_train) & set(neighbourhood_dummies_test))\n",
    "#selected_vars.extend(list(neighbourhood_dummies))\n",
    "\n",
    "target = \"interest_level\"\n",
    "target_num_map = {'high':0, 'medium':1, 'low':2}\n",
    "\n",
    "test_prediction, test_predprob, alg = modelXGBfit (alg, train_df, test_df, selected_vars, target, target_num_map)"
   ]
  },
  {
   "cell_type": "markdown",
   "metadata": {},
   "source": [
    "Based on the XGBoost algorithm which was trained on the train_df data set, we can see that the trained model has accuracy of 81%. And the strongest predictors used by the model are: price, nm of key words in the desciption (or in other words how long is the description when the stp wprds are removed), day of the year, number of features, hour. Weekday, bedrooms and bathrooms are with less important function when predicting the probabilities the interest level."
   ]
  },
  {
   "cell_type": "code",
   "execution_count": 10,
   "metadata": {
    "collapsed": false
   },
   "outputs": [
    {
     "name": "stdout",
     "output_type": "stream",
     "text": [
      "       high    medium       low  listing_id\n",
      "0  0.084935  0.638936  0.276129     7142618\n",
      "1  0.573042  0.207019  0.219939     7210040\n",
      "2  0.009495  0.078752  0.911753     7103890\n",
      "3  0.028089  0.282081  0.689830     7143442\n",
      "4  0.008873  0.165688  0.825439     6860601\n"
     ]
    }
   ],
   "source": [
    "out_df = pd.DataFrame(test_predprob)\n",
    "out_df.columns = [\"high\", \"medium\", \"low\"]\n",
    "out_df[\"listing_id\"] = test_df.listing_id.values\n",
    "print(out_df.head())"
   ]
  },
  {
   "cell_type": "markdown",
   "metadata": {},
   "source": [
    "As a next step we will perform cross validation and some fine tuning to the parameters of XGBoost."
   ]
  },
  {
   "cell_type": "markdown",
   "metadata": {},
   "source": [
    "##Tune max_depth and min_child_weight\n",
    "\n",
    "Both parameters are important in the model performance and that's the reason we start with them."
   ]
  },
  {
   "cell_type": "code",
   "execution_count": 12,
   "metadata": {
    "collapsed": false
   },
   "outputs": [
    {
     "data": {
      "text/plain": [
       "([mean: -0.62501, std: 0.00457, params: {'max_depth': 3, 'min_child_weight': 1},\n",
       "  mean: -0.62494, std: 0.00458, params: {'max_depth': 3, 'min_child_weight': 3},\n",
       "  mean: -0.62494, std: 0.00442, params: {'max_depth': 3, 'min_child_weight': 5},\n",
       "  mean: -0.59346, std: 0.00484, params: {'max_depth': 7, 'min_child_weight': 1},\n",
       "  mean: -0.59296, std: 0.00450, params: {'max_depth': 7, 'min_child_weight': 3},\n",
       "  mean: -0.59307, std: 0.00467, params: {'max_depth': 7, 'min_child_weight': 5},\n",
       "  mean: -0.60889, std: 0.00623, params: {'max_depth': 11, 'min_child_weight': 1},\n",
       "  mean: -0.60224, std: 0.00567, params: {'max_depth': 11, 'min_child_weight': 3},\n",
       "  mean: -0.59943, std: 0.00579, params: {'max_depth': 11, 'min_child_weight': 5}],\n",
       " {'max_depth': 7, 'min_child_weight': 3},\n",
       " -0.5929554566132762)"
      ]
     },
     "execution_count": 12,
     "metadata": {},
     "output_type": "execute_result"
    }
   ],
   "source": [
    "param_test1 = {\n",
    " 'max_depth': [3, 7, 11],\n",
    " 'min_child_weight': [1, 3, 5]\n",
    "}\n",
    "\n",
    "selected_vars  = [\"bathrooms\", \"bedrooms\", \"price\", \"num_features\", \"num_key_words_description\",\n",
    "                   \"dayofyear\", \"weekofyear\", \"weekday\", \"hour\", \"num_photos\", \"latitude\", \"longitude\"]\n",
    "\n",
    "target = \"interest_level\"\n",
    "target_num_map = {'high':0, 'medium':1, 'low':2}\n",
    "\n",
    "train_target = pd.DataFrame(train_df['interest_level'].apply(lambda x: target_num_map[x]))\n",
    "    \n",
    "gsearch1 = GridSearchCV(estimator = XGBClassifier( learning_rate =0.1, n_estimators=140, max_depth=5,\n",
    " min_child_weight=1, gamma=0, subsample=0.8, colsample_bytree=0.8,\n",
    " objective= 'multi:softprob', nthread=4, scale_pos_weight=1, seed=27), \n",
    " param_grid = param_test1,scoring='log_loss', n_jobs=4,iid=False, cv=5)\n",
    "gsearch1.fit(train_df[selected_vars],train_target.values.flatten())\n",
    "gsearch1.grid_scores_, gsearch1.best_params_, gsearch1.best_score_"
   ]
  },
  {
   "cell_type": "markdown",
   "metadata": {},
   "source": [
    "We will try to further adjust the max_depth based oon the result by looking at other numbers around the final result 7. We will aslo try to adjust further th ethe min_child_weight which was initially set to 3."
   ]
  },
  {
   "cell_type": "code",
   "execution_count": 13,
   "metadata": {
    "collapsed": false
   },
   "outputs": [
    {
     "data": {
      "text/plain": [
       "([mean: -0.59533, std: 0.00474, params: {'max_depth': 6, 'min_child_weight': 2},\n",
       "  mean: -0.59566, std: 0.00488, params: {'max_depth': 6, 'min_child_weight': 3},\n",
       "  mean: -0.59577, std: 0.00418, params: {'max_depth': 6, 'min_child_weight': 4},\n",
       "  mean: -0.59320, std: 0.00466, params: {'max_depth': 7, 'min_child_weight': 2},\n",
       "  mean: -0.59296, std: 0.00450, params: {'max_depth': 7, 'min_child_weight': 3},\n",
       "  mean: -0.59318, std: 0.00500, params: {'max_depth': 7, 'min_child_weight': 4},\n",
       "  mean: -0.59351, std: 0.00474, params: {'max_depth': 8, 'min_child_weight': 2},\n",
       "  mean: -0.59309, std: 0.00449, params: {'max_depth': 8, 'min_child_weight': 3},\n",
       "  mean: -0.59258, std: 0.00470, params: {'max_depth': 8, 'min_child_weight': 4}],\n",
       " {'max_depth': 8, 'min_child_weight': 4},\n",
       " -0.5925841118459)"
      ]
     },
     "execution_count": 13,
     "metadata": {},
     "output_type": "execute_result"
    }
   ],
   "source": [
    "param_test1 = {\n",
    " 'max_depth': [6, 7, 8],\n",
    " 'min_child_weight': [2,3, 4]\n",
    "}\n",
    "\n",
    "train_target = pd.DataFrame(train_df['interest_level'].apply(lambda x: target_num_map[x]))\n",
    "    \n",
    "gsearch1 = GridSearchCV(estimator = XGBClassifier( learning_rate =0.1, n_estimators=140, max_depth=5,\n",
    " min_child_weight=1, gamma=0, subsample=0.8, colsample_bytree=0.8,\n",
    " objective= 'multi:softprob', nthread=4, scale_pos_weight=1, seed=27), \n",
    " param_grid = param_test1,scoring='log_loss', n_jobs=4,iid=False, cv=5)\n",
    "gsearch1.fit(train_df[selected_vars],train_target.values.flatten())\n",
    "gsearch1.grid_scores_, gsearch1.best_params_, gsearch1.best_score_"
   ]
  },
  {
   "cell_type": "markdown",
   "metadata": {},
   "source": [
    "Since we've got as a result 8, we will try again with few other max depth values: 8,9,10 to see if we can find a better fit. The min_child_weight will be again 2 or 3"
   ]
  },
  {
   "cell_type": "code",
   "execution_count": 14,
   "metadata": {
    "collapsed": false
   },
   "outputs": [
    {
     "data": {
      "text/plain": [
       "([mean: -0.59318, std: 0.00500, params: {'max_depth': 7, 'min_child_weight': 4},\n",
       "  mean: -0.59307, std: 0.00467, params: {'max_depth': 7, 'min_child_weight': 5},\n",
       "  mean: -0.59321, std: 0.00421, params: {'max_depth': 7, 'min_child_weight': 6},\n",
       "  mean: -0.59258, std: 0.00470, params: {'max_depth': 8, 'min_child_weight': 4},\n",
       "  mean: -0.59230, std: 0.00460, params: {'max_depth': 8, 'min_child_weight': 5},\n",
       "  mean: -0.59255, std: 0.00422, params: {'max_depth': 8, 'min_child_weight': 6},\n",
       "  mean: -0.59337, std: 0.00512, params: {'max_depth': 9, 'min_child_weight': 4},\n",
       "  mean: -0.59360, std: 0.00478, params: {'max_depth': 9, 'min_child_weight': 5},\n",
       "  mean: -0.59318, std: 0.00467, params: {'max_depth': 9, 'min_child_weight': 6},\n",
       "  mean: -0.59623, std: 0.00567, params: {'max_depth': 10, 'min_child_weight': 4},\n",
       "  mean: -0.59533, std: 0.00468, params: {'max_depth': 10, 'min_child_weight': 5},\n",
       "  mean: -0.59518, std: 0.00474, params: {'max_depth': 10, 'min_child_weight': 6}],\n",
       " {'max_depth': 8, 'min_child_weight': 5},\n",
       " -0.5922969618316679)"
      ]
     },
     "execution_count": 14,
     "metadata": {},
     "output_type": "execute_result"
    }
   ],
   "source": [
    "param_test1 = {\n",
    " 'max_depth': [7,8,9,10],\n",
    " 'min_child_weight': [4,5,6]\n",
    "}\n",
    "\n",
    "train_target = pd.DataFrame(train_df['interest_level'].apply(lambda x: target_num_map[x]))\n",
    "    \n",
    "gsearch1 = GridSearchCV(estimator = XGBClassifier( learning_rate =0.1, n_estimators=140, max_depth=5,\n",
    " min_child_weight=1, gamma=0, subsample=0.8, colsample_bytree=0.8,\n",
    " objective= 'multi:softprob', nthread=4, scale_pos_weight=1, seed=27), \n",
    " param_grid = param_test1,scoring='log_loss', n_jobs=4,iid=False, cv=5)\n",
    "gsearch1.fit(train_df[selected_vars],train_target.values.flatten())\n",
    "gsearch1.grid_scores_, gsearch1.best_params_, gsearch1.best_score_"
   ]
  },
  {
   "cell_type": "markdown",
   "metadata": {},
   "source": [
    " From the results we can see that the optimal value for max depth is 8. Our cross validation was focused on consequitive values between 3 and 11. The optimal value for the minimum child weight is 1. The values for the minimum child weight that we considered were 1, 3 and 5. Since the optimum values are in the middle or the lower end of the intervals we have tested, we will accept max depth = 9 and min child weight = 5 as the best values and will proceed with the rest of the parameter tuning by using these values."
   ]
  },
  {
   "cell_type": "code",
   "execution_count": 15,
   "metadata": {
    "collapsed": false
   },
   "outputs": [
    {
     "data": {
      "text/plain": [
       "([mean: -0.59230, std: 0.00460, params: {'gamma': 0.0},\n",
       "  mean: -0.59249, std: 0.00482, params: {'gamma': 0.1},\n",
       "  mean: -0.59238, std: 0.00493, params: {'gamma': 0.2},\n",
       "  mean: -0.59236, std: 0.00421, params: {'gamma': 0.3},\n",
       "  mean: -0.59239, std: 0.00493, params: {'gamma': 0.4}],\n",
       " {'gamma': 0.0},\n",
       " -0.5922969618316679)"
      ]
     },
     "execution_count": 15,
     "metadata": {},
     "output_type": "execute_result"
    }
   ],
   "source": [
    "param_test3 = {\n",
    " 'gamma':[i/10.0 for i in range(0,5)]\n",
    "}\n",
    "gsearch3 = GridSearchCV(estimator = XGBClassifier( learning_rate =0.1, n_estimators=140, max_depth=8,\n",
    " min_child_weight=5, gamma=0, subsample=0.8, colsample_bytree=0.8,\n",
    " objective= 'multi:softprob', nthread=4, scale_pos_weight=1,seed=27), \n",
    " param_grid = param_test3, scoring='log_loss', n_jobs=4,iid=False, cv=5)\n",
    "gsearch3.fit(train_df[selected_vars],train_target.values.flatten())\n",
    "gsearch3.grid_scores_, gsearch3.best_params_, gsearch3.best_score_"
   ]
  },
  {
   "cell_type": "markdown",
   "metadata": {},
   "source": [
    "We can see that the best gamma value for our data set is 0.1 and not 0 as we initially have selected. We will update the parameters and will run the whole model to see how the updated parameters have affected the final result."
   ]
  },
  {
   "cell_type": "code",
   "execution_count": 16,
   "metadata": {
    "collapsed": false
   },
   "outputs": [
    {
     "name": "stdout",
     "output_type": "stream",
     "text": [
      "\n",
      "Model Report\n",
      "Accuracy : 0.983\n"
     ]
    },
    {
     "data": {
      "image/png": "[encoded data removed]",
      "text/plain": [
       "<matplotlib.figure.Figure at 0x1f48213eeb8>"
      ]
     },
     "metadata": {},
     "output_type": "display_data"
    }
   ],
   "source": [
    "alg = XGBClassifier(\n",
    "                     learning_rate =0.1,\n",
    "                     n_estimators=1000,\n",
    "                     max_depth=8,\n",
    "                     min_child_weight=5,\n",
    "                     gamma=0,\n",
    "                     subsample=0.8,\n",
    "                     colsample_bytree=0.8,\n",
    "                     objective= 'multi:softprob; num_class=3',\n",
    "                     nthread=4,\n",
    "                     scale_pos_weight=1,\n",
    "                     seed=27)\n",
    "\n",
    "test_prediction, test_predprob, alg_result = modelXGBfit (alg, train_df, test_df, selected_vars, target, target_num_map)"
   ]
  },
  {
   "cell_type": "markdown",
   "metadata": {},
   "source": [
    "We can see that by adjusting the above parameters, we have increased the accuracy of the model from 0.8116 to 0.9751. As a next step we will adjust the \"subsample\" and \"colsample_bytree\" parameters."
   ]
  },
  {
   "cell_type": "code",
   "execution_count": 17,
   "metadata": {
    "collapsed": false
   },
   "outputs": [
    {
     "data": {
      "text/plain": [
       "([mean: -0.59472, std: 0.00580, params: {'colsample_bytree': 0.6, 'subsample': 0.6},\n",
       "  mean: -0.59550, std: 0.00563, params: {'colsample_bytree': 0.6, 'subsample': 0.7},\n",
       "  mean: -0.59310, std: 0.00588, params: {'colsample_bytree': 0.7, 'subsample': 0.6},\n",
       "  mean: -0.59288, std: 0.00526, params: {'colsample_bytree': 0.7, 'subsample': 0.7}],\n",
       " {'colsample_bytree': 0.7, 'subsample': 0.7},\n",
       " -0.5928809483851276)"
      ]
     },
     "execution_count": 17,
     "metadata": {},
     "output_type": "execute_result"
    }
   ],
   "source": [
    "param_test4 = {\n",
    " 'subsample':[i/10.0 for i in range(6,8)],\n",
    " 'colsample_bytree':[i/10.0 for i in range(6,8)]\n",
    "}\n",
    "gsearch4 = GridSearchCV(estimator = XGBClassifier( learning_rate =0.1, n_estimators=177, max_depth=8,\n",
    " min_child_weight=5, gamma=0, subsample=0.8, colsample_bytree=0.8,\n",
    " objective= 'multi:softprob', nthread=4, scale_pos_weight=1,seed=27), \n",
    " param_grid = param_test4, scoring='log_loss', n_jobs=4,iid=False, cv=5)\n",
    "gsearch4.fit(train_df[selected_vars],train_target.values.flatten())\n",
    "gsearch4.grid_scores_, gsearch4.best_params_, gsearch4.best_score_"
   ]
  },
  {
   "cell_type": "markdown",
   "metadata": {},
   "source": [
    "We found that the best values are \"colsample_bytree\" = 0.7 and subsample = 0.7. As a next step we will tune the regularization parameters. The next step is to tune the regularization parameters."
   ]
  },
  {
   "cell_type": "code",
   "execution_count": 19,
   "metadata": {
    "collapsed": false
   },
   "outputs": [
    {
     "data": {
      "text/plain": [
       "([mean: -0.59344, std: 0.00567, params: {'reg_alpha': 1e-05},\n",
       "  mean: -0.59346, std: 0.00531, params: {'reg_alpha': 0.01},\n",
       "  mean: -0.59276, std: 0.00481, params: {'reg_alpha': 0.1},\n",
       "  mean: -0.59262, std: 0.00596, params: {'reg_alpha': 1},\n",
       "  mean: -0.64218, std: 0.00378, params: {'reg_alpha': 100}],\n",
       " {'reg_alpha': 1},\n",
       " -0.5926224796744195)"
      ]
     },
     "execution_count": 19,
     "metadata": {},
     "output_type": "execute_result"
    }
   ],
   "source": [
    "param_test6 = {\n",
    " 'reg_alpha':[1e-5, 1e-2, 0.1, 1, 100]\n",
    "}\n",
    "selected_vars  = [\"bathrooms\", \"bedrooms\", \"price\", \"num_features\", \"num_key_words_description\",\n",
    "                   \"dayofyear\", \"weekofyear\", \"weekday\", \"hour\", \"num_photos\", \"latitude\", \"longitude\"]\n",
    "\n",
    "target = \"interest_level\"\n",
    "target_num_map = {'high':0, 'medium':1, 'low':2}\n",
    "\n",
    "train_target = pd.DataFrame(train_df['interest_level'].apply(lambda x: target_num_map[x]))\n",
    "    \n",
    "gsearch6 = GridSearchCV(estimator = XGBClassifier( learning_rate =0.1, n_estimators=177, max_depth=8,\n",
    " min_child_weight=5, gamma=0, subsample=0.7, colsample_bytree=0.7,\n",
    " objective= 'multi:softprob', nthread=4, scale_pos_weight=1,seed=27), \n",
    " param_grid = param_test6, scoring='log_loss', n_jobs=4,iid=False, cv=5)\n",
    "gsearch6.fit(train_df[selected_vars],train_target.values.flatten())\n",
    "gsearch6.grid_scores_, gsearch6.best_params_, gsearch6.best_score_"
   ]
  },
  {
   "cell_type": "markdown",
   "metadata": {},
   "source": [
    "We've got a slight improvement in the cv score compared to the previous parameters. Since our reg_alpha values were pretty wide spread, we will focus on values around 1 to see if we can find an even better adjusted value for reg_alpha."
   ]
  },
  {
   "cell_type": "code",
   "execution_count": 20,
   "metadata": {
    "collapsed": false
   },
   "outputs": [
    {
     "data": {
      "text/plain": [
       "([mean: -0.59535, std: 0.00576, params: {'reg_alpha': 0.5},\n",
       "  mean: -0.59476, std: 0.00575, params: {'reg_alpha': 1},\n",
       "  mean: -0.59308, std: 0.00510, params: {'reg_alpha': 3},\n",
       "  mean: -0.59302, std: 0.00455, params: {'reg_alpha': 5},\n",
       "  mean: -0.59577, std: 0.00495, params: {'reg_alpha': 10}],\n",
       " {'reg_alpha': 5},\n",
       " -0.5930228275842985)"
      ]
     },
     "execution_count": 20,
     "metadata": {},
     "output_type": "execute_result"
    }
   ],
   "source": [
    "#Have to remove this code because we found alpha in the previous one\n",
    "param_test6 = {\n",
    " 'reg_alpha':[0.5, 1, 3, 5, 10]\n",
    "}\n",
    "gsearch6 = GridSearchCV(estimator = XGBClassifier( learning_rate =0.1, n_estimators=177, max_depth=9,\n",
    " min_child_weight=5, gamma=0, subsample=0.7, colsample_bytree=0.7,\n",
    " objective= 'multi:softprob', nthread=4, scale_pos_weight=1,seed=27), \n",
    " param_grid = param_test6, scoring='log_loss', n_jobs=4,iid=False, cv=5)\n",
    "gsearch6.fit(train_df[selected_vars],train_target.values.flatten())\n",
    "gsearch6.grid_scores_, gsearch6.best_params_, gsearch6.best_score_"
   ]
  },
  {
   "cell_type": "markdown",
   "metadata": {},
   "source": [
    "We can see that a better reg alpha parameter is 0.05 and it leads to slightly improvement in the cross validation results. Since we adjusted few more parameters of the model, it is time to see again our model performance. "
   ]
  },
  {
   "cell_type": "code",
   "execution_count": 21,
   "metadata": {
    "collapsed": false
   },
   "outputs": [
    {
     "name": "stdout",
     "output_type": "stream",
     "text": [
      "\n",
      "Model Report\n",
      "Accuracy : 0.93\n"
     ]
    },
    {
     "data": {
      "image/png": "[encoded data removed]",
      "text/plain": [
       "<matplotlib.figure.Figure at 0x1f4dcf21898>"
      ]
     },
     "metadata": {},
     "output_type": "display_data"
    }
   ],
   "source": [
    "alg = XGBClassifier(\n",
    "                     learning_rate =0.1,\n",
    "                     n_estimators=1000,\n",
    "                     max_depth=8,\n",
    "                     min_child_weight=5,\n",
    "                     gamma=0,\n",
    "                     subsample=0.7,\n",
    "                     colsample_bytree=0.7,\n",
    "                     reg_alpha = 5,\n",
    "                     objective= 'multi:softprob; num_class=3',\n",
    "                     nthread=4,\n",
    "                     scale_pos_weight=1,\n",
    "                     seed=27)\n",
    "\n",
    "test_prediction, test_predprob, alg_result = modelXGBfit (alg, train_df, test_df, selected_vars, target, target_num_map)"
   ]
  },
  {
   "cell_type": "code",
   "execution_count": 22,
   "metadata": {
    "collapsed": true
   },
   "outputs": [],
   "source": [
    "out_df = pd.DataFrame(test_predprob)\n",
    "out_df.columns = [\"high\", \"medium\", \"low\"]\n",
    "out_df[\"listing_id\"] = test_df.listing_id.values\n",
    "out_df.to_csv(\"xgb_starter_results_v2.csv\", index=False)"
   ]
  },
  {
   "cell_type": "code",
   "execution_count": null,
   "metadata": {
    "collapsed": true
   },
   "outputs": [],
   "source": []
  }
 ],
 "metadata": {
  "kernelspec": {
   "display_name": "Python 3",
   "language": "python",
   "name": "python3"
  },
  "language_info": {
   "codemirror_mode": {
    "name": "ipython",
    "version": 3
   },
   "file_extension": ".py",
   "mimetype": "text/x-python",
   "name": "python",
   "nbconvert_exporter": "python",
   "pygments_lexer": "ipython3",
   "version": "3.6.0"
  }
 },
 "nbformat": 4,
 "nbformat_minor": 2
}
