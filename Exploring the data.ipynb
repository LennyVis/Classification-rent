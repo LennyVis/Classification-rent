{
 "cells": [
  {
   "cell_type": "code",
   "execution_count": 60,
   "metadata": {
    "collapsed": false
   },
   "outputs": [
    {
     "name": "stdout",
     "output_type": "stream",
     "text": [
      "mydataset\n",
      "mydataset1\n",
      "train\n",
      "train/axis0\n",
      "train/axis1\n",
      "train/block0_items\n",
      "train/block0_values\n",
      "train/block1_items\n",
      "train/block1_values\n",
      "<HDF5 dataset \"mydataset\": shape (50, 0), type \"<f4\">\n",
      "<class 'h5py._hl.dataset.Dataset'>\n",
      "<HDF5 dataset \"mydataset1\": shape (50, 0), type \"<f4\">\n",
      "<class 'h5py._hl.dataset.Dataset'>\n",
      "<HDF5 group \"/train\" (6 members)>\n",
      "<class 'h5py._hl.group.Group'>\n",
      "<HDF5 dataset \"axis0\": shape (111,), type \"|S14\">\n",
      "<class 'h5py._hl.dataset.Dataset'>\n",
      "<HDF5 dataset \"axis1\": shape (1710756,), type \"<i8\">\n",
      "<class 'h5py._hl.dataset.Dataset'>\n",
      "<HDF5 dataset \"block0_items\": shape (2,), type \"|S9\">\n",
      "<class 'h5py._hl.dataset.Dataset'>\n",
      "<HDF5 dataset \"block0_values\": shape (1710756, 2), type \"<i2\">\n",
      "<class 'h5py._hl.dataset.Dataset'>\n",
      "<HDF5 dataset \"block1_items\": shape (109,), type \"|S14\">\n",
      "<class 'h5py._hl.dataset.Dataset'>\n",
      "<HDF5 dataset \"block1_values\": shape (1710756, 109), type \"<f4\">\n",
      "<class 'h5py._hl.dataset.Dataset'>\n",
      "111\n",
      "<HDF5 dataset \"axis0\": shape (111,), type \"|S14\">\n",
      "b'timestamp'\n",
      "b'technical_35'\n",
      "[b'timestamp' b'derived_0' b'derived_1' b'derived_2']\n"
     ]
    }
   ],
   "source": [
    "import h5py    # HDF5 support\n",
    "import numpy\n",
    "\n",
    "fileName = \"C:\\\\Users\\\\sevda\\\\Documents\\\\Data Lab\\\\Financial prediction\\\\train.h5\\\\train.h5\"\n",
    "f = h5py.File(fileName,  \"r+\")\n",
    "\n",
    "#print(f.keys())\n",
    "\n",
    "#print(f.values())\n",
    "\n",
    "#print(f.items())\n",
    "\n",
    "\n",
    "# dset = f.create_dataset(\"mydataset1\", (50,0))\n",
    "\n",
    "data = f[\"train\"]\n",
    "\n",
    "def printname(name):\n",
    "    print (name)\n",
    "\n",
    "def print_it(name):\n",
    "    dset = f[name]\n",
    "    print(dset)\n",
    "    print(type(dset))\n",
    "\n",
    "f.visit(printname)\n",
    "\n",
    "f.visit(print_it)\n",
    "\n",
    "axis0 = data[\"axis0\"]\n",
    "print(axis0.size)\n",
    "print(axis0)\n",
    "print(axis0[1])\n",
    "print(axis0[100])\n",
    "print(axis0[1:5])"
   ]
  },
  {
   "cell_type": "code",
   "execution_count": 58,
   "metadata": {
    "collapsed": false
   },
   "outputs": [
    {
     "ename": "AttributeError",
     "evalue": "'Dataset' object has no attribute 'keys'",
     "output_type": "error",
     "traceback": [
      "\u001b[0;31m---------------------------------------------------------------------------\u001b[0m",
      "\u001b[0;31mAttributeError\u001b[0m                            Traceback (most recent call last)",
      "\u001b[0;32m<ipython-input-58-ab23a6a0e3d1>\u001b[0m in \u001b[0;36m<module>\u001b[0;34m()\u001b[0m\n\u001b[0;32m----> 1\u001b[0;31m \u001b[0mprint\u001b[0m\u001b[1;33m(\u001b[0m\u001b[0mdset\u001b[0m\u001b[1;33m.\u001b[0m\u001b[0mkeys\u001b[0m\u001b[1;33m(\u001b[0m\u001b[1;33m)\u001b[0m\u001b[1;33m)\u001b[0m\u001b[1;33m\u001b[0m\u001b[0m\n\u001b[0m",
      "\u001b[0;31mAttributeError\u001b[0m: 'Dataset' object has no attribute 'keys'"
     ]
    }
   ],
   "source": []
  },
  {
   "cell_type": "code",
   "execution_count": 61,
   "metadata": {
    "collapsed": false
   },
   "outputs": [],
   "source": [
    "f.close()"
   ]
  },
  {
   "cell_type": "code",
   "execution_count": null,
   "metadata": {
    "collapsed": true
   },
   "outputs": [],
   "source": []
  }
 ],
 "metadata": {
  "kernelspec": {
   "display_name": "Python 3",
   "language": "python",
   "name": "python3"
  },
  "language_info": {
   "codemirror_mode": {
    "name": "ipython",
    "version": 3
   },
   "file_extension": ".py",
   "mimetype": "text/x-python",
   "name": "python",
   "nbconvert_exporter": "python",
   "pygments_lexer": "ipython3",
   "version": "3.6.0"
  }
 },
 "nbformat": 4,
 "nbformat_minor": 2
}
