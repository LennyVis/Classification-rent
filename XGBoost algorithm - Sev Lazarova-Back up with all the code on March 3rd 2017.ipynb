{
 "cells": [
  {
   "cell_type": "markdown",
   "metadata": {},
   "source": [
    "## Preparing the data set\n",
    "\n",
    "The first step before running the clustering algorithm is to prepare the training and the testing data set. \n"
   ]
  },
  {
   "cell_type": "code",
   "execution_count": 5,
   "metadata": {
    "collapsed": false
   },
   "outputs": [
    {
     "name": "stdout",
     "output_type": "stream",
     "text": [
      "[Int64Index([    10,  10000, 100004, 100007, 100013, 100014, 100016, 100020,\n",
      "            100026, 100027,\n",
      "            ...\n",
      "             99982,  99984,  99986,  99987,  99988,   9999,  99991,  99992,\n",
      "             99993,  99994],\n",
      "           dtype='int64', length=49352), Index(['bathrooms', 'bedrooms', 'building_id', 'created', 'description',\n",
      "       'display_address', 'features', 'interest_level', 'latitude',\n",
      "       'listing_id', 'longitude', 'manager_id', 'photos', 'price',\n",
      "       'street_address'],\n",
      "      dtype='object')]\n",
      "[Int64Index([     0,      1,    100,   1000, 100000, 100001, 100002, 100003,\n",
      "            100005, 100006,\n",
      "            ...\n",
      "             99981,  99983,  99985,  99989,  99990,  99995,  99996,  99997,\n",
      "             99998,  99999],\n",
      "           dtype='int64', length=74659), Index(['bathrooms', 'bedrooms', 'building_id', 'created', 'description',\n",
      "       'display_address', 'features', 'latitude', 'listing_id', 'longitude',\n",
      "       'manager_id', 'photos', 'price', 'street_address'],\n",
      "      dtype='object')]\n"
     ]
    }
   ],
   "source": [
    "import pandas as pd\n",
    "import numpy as np\n",
    "import matplotlib.pyplot as plt\n",
    "import seaborn as sns\n",
    "import warnings\n",
    "warnings.filterwarnings('ignore')\n",
    "\n",
    "sns.set(style=\"whitegrid\", color_codes=True)\n",
    "sns.palplot(sns.color_palette(\"RdBu\", n_colors=7))\n",
    "\n",
    "fileNameTrain = \"C:\\\\Users\\\\sevda\\\\Documents\\\\Data Lab\\\\Six sigma rental property\\\\train.json\\\\train.json\"\n",
    "train_df = pd.read_json(fileNameTrain)\n",
    "\n",
    "fileNameTest = \"C:\\\\Users\\\\sevda\\\\Documents\\\\Data Lab\\\\Six sigma rental property\\\\test.json\\\\test.json\"\n",
    "test_df = pd.read_json(fileNameTest)\n",
    "\n",
    "#train_df.head()\n",
    "print(train_df.axes)\n",
    "print(test_df.axes)\n"
   ]
  },
  {
   "cell_type": "code",
   "execution_count": 6,
   "metadata": {
    "collapsed": true
   },
   "outputs": [],
   "source": [
    "lower_limit_lon = np.percentile(train_df.longitude.values, 1)\n",
    "upper_limit_lon = np.percentile(train_df.longitude.values, 99)\n",
    "train_df['longitude'].ix[train_df['longitude']<lower_limit_lon] = lower_limit_lon\n",
    "train_df['longitude'].ix[train_df['longitude']>upper_limit_lon] = upper_limit_lon\n",
    "test_df['longitude'].ix[test_df['longitude']<lower_limit_lon] = lower_limit_lon\n",
    "test_df['longitude'].ix[test_df['longitude']>upper_limit_lon] = upper_limit_lon\n",
    "\n",
    "lower_limit_lat = np.percentile(train_df.latitude.values, 1)\n",
    "upper_limit_lat = np.percentile(train_df.latitude.values, 99)\n",
    "train_df['latitude'].ix[train_df['latitude']<lower_limit_lat] = lower_limit_lat\n",
    "train_df['latitude'].ix[train_df['latitude']>upper_limit_lat] = upper_limit_lat\n",
    "test_df['latitude'].ix[test_df['latitude']<lower_limit_lat] = lower_limit_lat\n",
    "test_df['latitude'].ix[test_df['latitude']>upper_limit_lat] = upper_limit_lat"
   ]
  },
  {
   "cell_type": "code",
   "execution_count": 7,
   "metadata": {
    "collapsed": false
   },
   "outputs": [],
   "source": [
    "import shapefile\n",
    "\n",
    "sf = shapefile.Reader(\"C:\\\\Users\\\\sevda\\\\Documents\\\\Data Lab\\\\Six sigma rental property\\\\ZillowNeighborhoods-NY\\\\ZillowNeighborhoods-NY.shp\")\n",
    "\n",
    "shapes = sf.shapes()\n",
    "records = sf.records()\n",
    "\n",
    "towns_values = [records[i][2] for i in range(len(records))]\n",
    "neighb_values = [records[i][3] for i in range(len(records))]\n",
    "west_values = [shapes[i].bbox[0] for i in range(len(records))]\n",
    "south_values = [shapes[i].bbox[1] for i in range(len(records))]\n",
    "east_values = [shapes[i].bbox[2] for i in range(len(records))]\n",
    "north_values = [shapes[i].bbox[3] for i in range(len(records))]\n",
    "\n",
    "west, south, east, north = -74.02, 40.64, -73.85, 40.86\n",
    "\n",
    "neighbourhood_pd = pd.DataFrame({'Town' : towns_values,\n",
    "                                 'Neighbourhood' : neighb_values,\n",
    "                                 'West' : west_values,\n",
    "                                 'South' : south_values,\n",
    "                                 'East' : east_values,\n",
    "                                 'North' : north_values})\n",
    "\n",
    "neighbourhood_pd = neighbourhood_pd[neighbourhood_pd.Town == \"New York\"]\n",
    "neighbourhood_pd = neighbourhood_pd.ix[(neighbourhood_pd.West >= west) & \n",
    "                                     (neighbourhood_pd.East <= east) & \n",
    "                                     (neighbourhood_pd.South >= south) & \n",
    "                                     (neighbourhood_pd.North <= north)]\n",
    "\n",
    "neighbourhood_sorted_pd = neighbourhood_pd.sort_values(['West'])\n",
    "\n",
    "\n",
    "neighbourhood_ls = []\n",
    "for num in range(0, train_df.shape[0]):\n",
    "    temp = neighbourhood_sorted_pd[(neighbourhood_sorted_pd.West<train_df.longitude.values[num]) &\n",
    "                                   (neighbourhood_sorted_pd.East>train_df.longitude.values[num]) &\n",
    "                                   (neighbourhood_sorted_pd.South<train_df.latitude.values[num]) &\n",
    "                                   (neighbourhood_sorted_pd.North>train_df.latitude.values[num])]\n",
    "    if temp.shape[0] > 0:\n",
    "        neighbourhood_ls += [temp.Neighbourhood.values[0]]\n",
    "    else:\n",
    "        neighbourhood_ls += [\"Other\"]\n",
    "    \n",
    "train_df['neighbourhood'] = pd.Series(neighbourhood_ls, index=train_df.index)\n",
    "\n",
    "neighbourhood_ls = []\n",
    "for num in range(0, test_df.shape[0]):\n",
    "    temp = neighbourhood_sorted_pd[(neighbourhood_sorted_pd.West<test_df.longitude.values[num]) &\n",
    "                                   (neighbourhood_sorted_pd.East>test_df.longitude.values[num]) &\n",
    "                                   (neighbourhood_sorted_pd.South<test_df.latitude.values[num]) &\n",
    "                                   (neighbourhood_sorted_pd.North>test_df.latitude.values[num])]\n",
    "    if temp.shape[0] > 0:\n",
    "        neighbourhood_ls += [temp.Neighbourhood.values[0]]\n",
    "    else:\n",
    "        neighbourhood_ls += [\"Other\"]\n",
    "    \n",
    "test_df['neighbourhood'] = pd.Series(neighbourhood_ls, index=test_df.index)"
   ]
  },
  {
   "cell_type": "markdown",
   "metadata": {},
   "source": [
    "As a next step, we will extract the key words from the description variable - by key words, we define words that are in the description of the unit but are not stop words as defined by the ntlk.corpus package."
   ]
  },
  {
   "cell_type": "code",
   "execution_count": 8,
   "metadata": {
    "collapsed": true
   },
   "outputs": [],
   "source": [
    "from nltk.corpus import stopwords\n",
    "\n",
    "cachedStopWords = stopwords.words(\"english\")\n",
    "\n",
    "description_key_words_ls = []\n",
    "\n",
    "for ind, row in train_df.iterrows():\n",
    "        #print(row['features'])\n",
    "        #description = description.lower()\n",
    "        description = row['description'].lower().rstrip(',?!.')\n",
    "        description = ' '.join([word for word in description.split() if word not in cachedStopWords])\n",
    "        description_ls = description.split(\" \")\n",
    "        description_key_words_ls += [description_ls]\n",
    "\n",
    "train_df['description_key_words'] = pd.Series(description_key_words_ls, index=train_df.index)\n",
    "\n",
    "description_key_words_ls = []\n",
    "\n",
    "for ind, row in test_df.iterrows():\n",
    "        #print(row['features'])\n",
    "        #description = description.lower()\n",
    "        description = row['description'].lower().rstrip(',?!.')\n",
    "        description = ' '.join([word for word in description.split() if word not in cachedStopWords])\n",
    "        description_ls = description.split(\" \")\n",
    "        description_key_words_ls += [description_ls]\n",
    "\n",
    "test_df['description_key_words'] = pd.Series(description_key_words_ls, index=test_df.index)"
   ]
  },
  {
   "cell_type": "markdown",
   "metadata": {},
   "source": [
    "We will create two numeric variables which describe the number of features and number of key words in the description section"
   ]
  },
  {
   "cell_type": "code",
   "execution_count": 9,
   "metadata": {
    "collapsed": true
   },
   "outputs": [],
   "source": [
    "train_df['num_features'] = train_df.features.apply(len)\n",
    "train_df['num_key_words_description'] = train_df.description_key_words.apply(len)\n",
    "\n",
    "test_df['num_features'] = test_df.features.apply(len)\n",
    "test_df['num_key_words_description'] = test_df.description_key_words.apply(len)"
   ]
  },
  {
   "cell_type": "markdown",
   "metadata": {},
   "source": [
    "From the Created variable, we will extract into new variables the exact data when the listing was created, the day of year, week of year, weekday and hour."
   ]
  },
  {
   "cell_type": "code",
   "execution_count": 10,
   "metadata": {
    "collapsed": true
   },
   "outputs": [],
   "source": [
    "train_df[\"created\"] = pd.to_datetime(train_df[\"created\"])\n",
    "train_df[\"date\"]= train_df[\"created\"].dt.date\n",
    "\n",
    "train_df[\"dayofyear\"] = train_df[\"created\"].dt.dayofyear\n",
    "train_df[\"weekofyear\"] = train_df[\"created\"].dt.weekofyear\n",
    "train_df[\"weekday\"] = train_df[\"created\"].dt.weekday\n",
    "train_df[\"hour\"] = train_df[\"created\"].dt.hour\n",
    "\n",
    "test_df[\"created\"] = pd.to_datetime(test_df[\"created\"])\n",
    "test_df[\"date\"]= test_df[\"created\"].dt.date\n",
    "\n",
    "test_df[\"dayofyear\"] = test_df[\"created\"].dt.dayofyear\n",
    "test_df[\"weekofyear\"] = test_df[\"created\"].dt.weekofyear\n",
    "test_df[\"weekday\"] = test_df[\"created\"].dt.weekday\n",
    "test_df[\"hour\"] = test_df[\"created\"].dt.hour"
   ]
  },
  {
   "cell_type": "markdown",
   "metadata": {},
   "source": [
    "The train and the test data set are ready so the next step is to apply the XGBoost algorithm.\n"
   ]
  },
  {
   "cell_type": "code",
   "execution_count": 12,
   "metadata": {
    "collapsed": false
   },
   "outputs": [
    {
     "name": "stdout",
     "output_type": "stream",
     "text": [
      "[3000 5465 2850 ..., 2595 3350 2200]\n"
     ]
    }
   ],
   "source": [
    "print(train_df.price.values)"
   ]
  },
  {
   "cell_type": "code",
   "execution_count": 36,
   "metadata": {
    "collapsed": false
   },
   "outputs": [],
   "source": [
    "import os\n",
    "import sys\n",
    "import operator\n",
    "import numpy as np\n",
    "import pandas as pd\n",
    "from scipy import sparse\n",
    "import xgboost as xgb\n",
    "from sklearn import model_selection, preprocessing, ensemble\n",
    "from sklearn.metrics import log_loss\n",
    "from sklearn.feature_extraction.text import TfidfVectorizer, CountVectorizer\n",
    "\n",
    "def runXGB(train_X, train_y, test_X, test_y=None, feature_names=None, seed_val=0, num_rounds=1000):\n",
    "    param = {}\n",
    "    param['objective'] = 'multi:softprob'\n",
    "    param['eta'] = 0.1\n",
    "    param['max_depth'] = 6\n",
    "    param['silent'] = 1\n",
    "    param['num_class'] = 3\n",
    "    param['eval_metric'] = \"mlogloss\"\n",
    "    param['min_child_weight'] = 1\n",
    "    param['subsample'] = 0.7\n",
    "    param['colsample_bytree'] = 0.7\n",
    "    param['seed'] = seed_val\n",
    "    num_rounds = num_rounds\n",
    "\n",
    "    plst = list(param.items())\n",
    "    xgtrain = xgb.DMatrix(train_X, label=train_y)\n",
    "\n",
    "    if test_y is not None:\n",
    "        xgtest = xgb.DMatrix(test_X, label=test_y)\n",
    "        watchlist = [ (xgtrain,'train'), (xgtest, 'test') ]\n",
    "        model = xgb.train(plst, xgtrain, num_rounds, watchlist, early_stopping_rounds=20)\n",
    "    else:\n",
    "        xgtest = xgb.DMatrix(test_X)\n",
    "        model = xgb.train(plst, xgtrain, num_rounds)\n",
    "\n",
    "    pred_test_y = model.predict(xgtest)\n",
    "    return pred_test_y, model\n",
    "\n",
    "\n",
    "selected_vars  = [\"bathrooms\", \"bedrooms\", \"price\", \"num_features\", \"num_key_words_description\",\n",
    "                   \"dayofyear\", \"weekofyear\", \"weekday\", \"hour\"]"
   ]
  },
  {
   "cell_type": "code",
   "execution_count": 45,
   "metadata": {
    "collapsed": false
   },
   "outputs": [
    {
     "name": "stdout",
     "output_type": "stream",
     "text": [
      "(49352, 9) (74659, 9)\n",
      "       high    medium       low  listing_id\n",
      "0  0.047830  0.386779  0.565391     7142618\n",
      "1  0.075124  0.243756  0.681121     7210040\n",
      "2  0.004342  0.078086  0.917572     7103890\n",
      "3  0.044818  0.398743  0.556439     7143442\n",
      "4  0.008197  0.129960  0.861842     6860601\n",
      "<class 'numpy.ndarray'>\n"
     ]
    }
   ],
   "source": [
    "selected_vars  = [\"bathrooms\", \"bedrooms\", \"price\", \"num_features\", \"num_key_words_description\",\n",
    "                   \"dayofyear\", \"weekofyear\", \"weekday\", \"hour\"]\n",
    "train_X = train_df[selected_vars]\n",
    "test_X = test_df[selected_vars]\n",
    "\n",
    "target_num_map = {'high':0, 'medium':1, 'low':2}\n",
    "#train_y = np.array(train_df['interest_level'].apply(lambda x: target_num_map[x]))\n",
    "train_y = pd.DataFrame(train_df['interest_level'].apply(lambda x: target_num_map[x]))\n",
    "print(train_X.shape, test_X.shape)\n",
    "\n",
    "preds, model = runXGB(train_X, train_y, test_X, num_rounds=400)\n",
    "out_df = pd.DataFrame(preds)\n",
    "out_df.columns = [\"high\", \"medium\", \"low\"]\n",
    "out_df[\"listing_id\"] = test_df.listing_id.values\n",
    "\n",
    "print (out_df.head())\n",
    "print(type(preds))"
   ]
  },
  {
   "cell_type": "code",
   "execution_count": 48,
   "metadata": {
    "collapsed": false
   },
   "outputs": [
    {
     "name": "stdout",
     "output_type": "stream",
     "text": [
      "[[ 0.04783038  0.38677871  0.56539088]\n",
      " [ 0.0751239   0.2437555   0.68112057]\n",
      " [ 0.00434199  0.07808571  0.91757238]\n",
      " ..., \n",
      " [ 0.12455944  0.2891759   0.58626461]\n",
      " [ 0.5298695   0.3289555   0.14117494]\n",
      " [ 0.08227518  0.3746722   0.54305261]]\n"
     ]
    }
   ],
   "source": [
    "print(preds)\n"
   ]
  },
  {
   "cell_type": "code",
   "execution_count": 107,
   "metadata": {
    "collapsed": false
   },
   "outputs": [],
   "source": [
    "import xgboost as xgb\n",
    "from xgboost.sklearn import XGBClassifier\n",
    "from sklearn import cross_validation, metrics   #Additional scklearn functions\n",
    "from sklearn.grid_search import GridSearchCV   #Perforing grid search\n",
    "\n",
    "def modelXGBfit(train_df, test_df, predictors, target, target_num_map, useTrainCV= False, cv_folds=5, early_stopping_rounds=50):\n",
    "    \n",
    "    alg = XGBClassifier(\n",
    "                     learning_rate =0.1,\n",
    "                     n_estimators=1000,\n",
    "                     max_depth=5,\n",
    "                     min_child_weight=1,\n",
    "                     gamma=0,\n",
    "                     subsample=0.8,\n",
    "                     colsample_bytree=0.8,\n",
    "                     objective= 'multi:softprob; num_class=3',\n",
    "                     nthread=4,\n",
    "                     scale_pos_weight=1,\n",
    "                     seed=27)\n",
    "    if useTrainCV:\n",
    "        xgb_param = alg.get_xgb_params()\n",
    "        train_target = pd.DataFrame(train_df['interest_level'].apply(lambda x: target_num_map[x]))\n",
    "        xgtrain = xgb.DMatrix(train_df[predictors].values, label=train_target)\n",
    "        cvresult = xgb.cv(xgb_param, xgtrain, num_boost_round=alg.get_params()['n_estimators'], nfold=cv_folds,\n",
    "            metrics='auc', early_stopping_rounds=early_stopping_rounds)\n",
    "        alg.set_params(n_estimators=cvresult.shape[0])\n",
    "    \n",
    "    #Fit the algorithm on the data\n",
    "    #alg.set_params(n_estimators = 3)\n",
    "    train_target = pd.DataFrame(train_df['interest_level'].apply(lambda x: target_num_map[x]))\n",
    "    alg.fit(train_df[predictors], train_target)\n",
    "        \n",
    "    #Predict training set:\n",
    "    train_predictions = alg.predict(train_df[predictors])\n",
    "    train_predprob = alg.predict_proba(train_df[predictors])\n",
    "        \n",
    "    #Print model report:\n",
    "    print (\"\\nModel Report\")\n",
    "    print (\"Accuracy : %.4g\" % metrics.accuracy_score(train_target, train_predictions))\n",
    "   # print (\"Train_df target: \" + train_df[target].values[1:10])\n",
    "   # print (type(train_df[target]))\n",
    "   # print (\"Train predicted prob:\" + train_predprob.values[1:10])\n",
    "   # print (type(train_predprob))\n",
    "    # print (\"AUC Score (Train): %f\" % metrics.roc_auc_score(train_df[target].values, train_predprob))\n",
    "                    \n",
    "    feat_imp = pd.Series(alg.booster().get_fscore()).sort_values(ascending=False)\n",
    "    feat_imp.plot(kind='bar', title='Feature Importances')\n",
    "    plt.ylabel('Feature Importance Score')\n",
    "    plt.show()\n",
    "    \n",
    "    #Predicting on the test data set\n",
    "    test_predictions = alg.predict(test_df[predictors])\n",
    "    test_predprob = alg.predict_proba(test_df[predictors])\n",
    "    #pred_test_y = model.predict(train_df[predictors])\n",
    "    return test_predictions, test_predprob, alg\n"
   ]
  },
  {
   "cell_type": "code",
   "execution_count": 108,
   "metadata": {
    "collapsed": false
   },
   "outputs": [
    {
     "name": "stdout",
     "output_type": "stream",
     "text": [
      "\n",
      "Model Report\n",
      "Accuracy : 0.8116\n"
     ]
    },
    {
     "data": {
      "image/png": "[encoded data removed]",
      "text/plain": [
       "<matplotlib.figure.Figure at 0x1a8027c0be0>"
      ]
     },
     "metadata": {},
     "output_type": "display_data"
    }
   ],
   "source": [
    "selected_vars  = [\"bathrooms\", \"bedrooms\", \"price\", \"num_features\", \"num_key_words_description\",\n",
    "                   \"dayofyear\", \"weekofyear\", \"weekday\", \"hour\"]\n",
    "target = \"interest_level\"\n",
    "target_num_map = {'high':0, 'medium':1, 'low':2}\n",
    "\n",
    "test_prediction, test_predprob, alg = modelXGBfit (train_df, test_df, selected_vars, target, target_num_map)"
   ]
  },
  {
   "cell_type": "code",
   "execution_count": 68,
   "metadata": {
    "collapsed": false
   },
   "outputs": [
    {
     "data": {
      "text/plain": [
       "dict_keys(['base_score', 'colsample_bylevel', 'colsample_bytree', 'gamma', 'learning_rate', 'max_delta_step', 'max_depth', 'min_child_weight', 'missing', 'n_estimators', 'nthread', 'objective', 'reg_alpha', 'reg_lambda', 'scale_pos_weight', 'seed', 'silent', 'subsample'])"
      ]
     },
     "execution_count": 68,
     "metadata": {},
     "output_type": "execute_result"
    }
   ],
   "source": [
    "alg = XGBClassifier()\n",
    "alg.get_params().keys()"
   ]
  },
  {
   "cell_type": "code",
   "execution_count": 109,
   "metadata": {
    "collapsed": false
   },
   "outputs": [
    {
     "name": "stdout",
     "output_type": "stream",
     "text": [
      "[[ 0.04682983  0.36960143  0.58356875]\n",
      " [ 0.11322674  0.22651519  0.66025805]\n",
      " [ 0.00334237  0.08096866  0.91568893]\n",
      " ..., \n",
      " [ 0.16106729  0.30375481  0.53517789]\n",
      " [ 0.4198705   0.52691084  0.05321866]\n",
      " [ 0.06705491  0.38945648  0.54348862]]\n",
      "(49352, 24)\n",
      "(74659, 23)\n"
     ]
    }
   ],
   "source": [
    "#result_df = pd.DataFrame(test_predprob)\n",
    "#result_df.columns = [\"high\", \"medium\", \"low\"]\n",
    "#result_df[\"listing_id\"] = test_df.listing_id.values\n",
    "print(test_predprob)\n",
    "print(train_df.shape)\n",
    "print(test_df.shape)"
   ]
  },
  {
   "cell_type": "code",
   "execution_count": null,
   "metadata": {
    "collapsed": true
   },
   "outputs": [],
   "source": []
  },
  {
   "cell_type": "code",
   "execution_count": 49,
   "metadata": {
    "collapsed": false
   },
   "outputs": [
    {
     "name": "stdout",
     "output_type": "stream",
     "text": [
      "[    0     1     2 ..., 49347 49350 49351]\n",
      "<class 'pandas.core.frame.DataFrame'>\n",
      "<class 'pandas.core.frame.DataFrame'>\n",
      "[0]\ttrain-mlogloss:1.04666\ttest-mlogloss:1.04704\n",
      "Multiple eval metrics have been passed: 'test-mlogloss' will be used for early stopping.\n",
      "\n",
      "Will train until test-mlogloss hasn't improved in 20 rounds.\n",
      "[1]\ttrain-mlogloss:1.00314\ttest-mlogloss:1.0036\n",
      "[2]\ttrain-mlogloss:0.960191\ttest-mlogloss:0.961036\n",
      "[3]\ttrain-mlogloss:0.924198\ttest-mlogloss:0.925564\n",
      "[4]\ttrain-mlogloss:0.892945\ttest-mlogloss:0.894629\n",
      "[5]\ttrain-mlogloss:0.867921\ttest-mlogloss:0.870195\n",
      "[6]\ttrain-mlogloss:0.845938\ttest-mlogloss:0.848788\n",
      "[7]\ttrain-mlogloss:0.824462\ttest-mlogloss:0.827865\n",
      "[8]\ttrain-mlogloss:0.805425\ttest-mlogloss:0.809175\n",
      "[9]\ttrain-mlogloss:0.789221\ttest-mlogloss:0.793306\n",
      "[10]\ttrain-mlogloss:0.775088\ttest-mlogloss:0.779623\n",
      "[11]\ttrain-mlogloss:0.761219\ttest-mlogloss:0.766187\n",
      "[12]\ttrain-mlogloss:0.74881\ttest-mlogloss:0.75426\n",
      "[13]\ttrain-mlogloss:0.738764\ttest-mlogloss:0.744689\n",
      "[14]\ttrain-mlogloss:0.728696\ttest-mlogloss:0.73487\n",
      "[15]\ttrain-mlogloss:0.721899\ttest-mlogloss:0.728461\n",
      "[16]\ttrain-mlogloss:0.713477\ttest-mlogloss:0.720577\n",
      "[17]\ttrain-mlogloss:0.708016\ttest-mlogloss:0.715365\n",
      "[18]\ttrain-mlogloss:0.702788\ttest-mlogloss:0.710583\n",
      "[19]\ttrain-mlogloss:0.695976\ttest-mlogloss:0.704359\n",
      "[20]\ttrain-mlogloss:0.690719\ttest-mlogloss:0.699586\n",
      "[21]\ttrain-mlogloss:0.685845\ttest-mlogloss:0.69503\n",
      "[22]\ttrain-mlogloss:0.681414\ttest-mlogloss:0.691105\n",
      "[23]\ttrain-mlogloss:0.678093\ttest-mlogloss:0.688057\n",
      "[24]\ttrain-mlogloss:0.673606\ttest-mlogloss:0.68399\n",
      "[25]\ttrain-mlogloss:0.670077\ttest-mlogloss:0.680976\n",
      "[26]\ttrain-mlogloss:0.666865\ttest-mlogloss:0.678379\n",
      "[27]\ttrain-mlogloss:0.663878\ttest-mlogloss:0.675727\n",
      "[28]\ttrain-mlogloss:0.661385\ttest-mlogloss:0.673591\n",
      "[29]\ttrain-mlogloss:0.658461\ttest-mlogloss:0.67119\n",
      "[30]\ttrain-mlogloss:0.656151\ttest-mlogloss:0.669394\n",
      "[31]\ttrain-mlogloss:0.654553\ttest-mlogloss:0.66816\n",
      "[32]\ttrain-mlogloss:0.652055\ttest-mlogloss:0.666159\n",
      "[33]\ttrain-mlogloss:0.649991\ttest-mlogloss:0.664602\n",
      "[34]\ttrain-mlogloss:0.647977\ttest-mlogloss:0.663053\n",
      "[35]\ttrain-mlogloss:0.645748\ttest-mlogloss:0.661513\n",
      "[36]\ttrain-mlogloss:0.643575\ttest-mlogloss:0.65972\n",
      "[37]\ttrain-mlogloss:0.642292\ttest-mlogloss:0.65883\n",
      "[38]\ttrain-mlogloss:0.640573\ttest-mlogloss:0.657726\n",
      "[39]\ttrain-mlogloss:0.638753\ttest-mlogloss:0.656507\n",
      "[40]\ttrain-mlogloss:0.637019\ttest-mlogloss:0.655322\n",
      "[41]\ttrain-mlogloss:0.635569\ttest-mlogloss:0.654418\n",
      "[42]\ttrain-mlogloss:0.634649\ttest-mlogloss:0.653776\n",
      "[43]\ttrain-mlogloss:0.633292\ttest-mlogloss:0.652935\n",
      "[44]\ttrain-mlogloss:0.631851\ttest-mlogloss:0.652086\n",
      "[45]\ttrain-mlogloss:0.630607\ttest-mlogloss:0.651369\n",
      "[46]\ttrain-mlogloss:0.629571\ttest-mlogloss:0.650731\n",
      "[47]\ttrain-mlogloss:0.628233\ttest-mlogloss:0.650082\n",
      "[48]\ttrain-mlogloss:0.627425\ttest-mlogloss:0.649649\n",
      "[49]\ttrain-mlogloss:0.626362\ttest-mlogloss:0.649161\n",
      "[50]\ttrain-mlogloss:0.625276\ttest-mlogloss:0.648676\n",
      "[51]\ttrain-mlogloss:0.624414\ttest-mlogloss:0.648407\n",
      "[52]\ttrain-mlogloss:0.623548\ttest-mlogloss:0.6481\n",
      "[53]\ttrain-mlogloss:0.62275\ttest-mlogloss:0.647692\n",
      "[54]\ttrain-mlogloss:0.621841\ttest-mlogloss:0.647292\n",
      "[55]\ttrain-mlogloss:0.620998\ttest-mlogloss:0.647088\n",
      "[56]\ttrain-mlogloss:0.61999\ttest-mlogloss:0.646668\n",
      "[57]\ttrain-mlogloss:0.619129\ttest-mlogloss:0.64638\n",
      "[58]\ttrain-mlogloss:0.61824\ttest-mlogloss:0.645934\n",
      "[59]\ttrain-mlogloss:0.617673\ttest-mlogloss:0.645719\n",
      "[60]\ttrain-mlogloss:0.617019\ttest-mlogloss:0.645461\n",
      "[61]\ttrain-mlogloss:0.616193\ttest-mlogloss:0.645099\n",
      "[62]\ttrain-mlogloss:0.615126\ttest-mlogloss:0.644521\n",
      "[63]\ttrain-mlogloss:0.614302\ttest-mlogloss:0.644253\n",
      "[64]\ttrain-mlogloss:0.613607\ttest-mlogloss:0.644091\n",
      "[65]\ttrain-mlogloss:0.612913\ttest-mlogloss:0.643953\n",
      "[66]\ttrain-mlogloss:0.611999\ttest-mlogloss:0.643575\n",
      "[67]\ttrain-mlogloss:0.611392\ttest-mlogloss:0.643417\n",
      "[68]\ttrain-mlogloss:0.610561\ttest-mlogloss:0.643062\n",
      "[69]\ttrain-mlogloss:0.610017\ttest-mlogloss:0.642958\n",
      "[70]\ttrain-mlogloss:0.609291\ttest-mlogloss:0.642711\n",
      "[71]\ttrain-mlogloss:0.608529\ttest-mlogloss:0.642525\n",
      "[72]\ttrain-mlogloss:0.60789\ttest-mlogloss:0.642322\n",
      "[73]\ttrain-mlogloss:0.60721\ttest-mlogloss:0.642133\n",
      "[74]\ttrain-mlogloss:0.606492\ttest-mlogloss:0.641771\n",
      "[75]\ttrain-mlogloss:0.605901\ttest-mlogloss:0.641592\n",
      "[76]\ttrain-mlogloss:0.605309\ttest-mlogloss:0.641452\n",
      "[77]\ttrain-mlogloss:0.604678\ttest-mlogloss:0.641381\n",
      "[78]\ttrain-mlogloss:0.604186\ttest-mlogloss:0.641378\n",
      "[79]\ttrain-mlogloss:0.603524\ttest-mlogloss:0.641201\n",
      "[80]\ttrain-mlogloss:0.602914\ttest-mlogloss:0.641143\n",
      "[81]\ttrain-mlogloss:0.602349\ttest-mlogloss:0.641074\n",
      "[82]\ttrain-mlogloss:0.601598\ttest-mlogloss:0.640875\n",
      "[83]\ttrain-mlogloss:0.600934\ttest-mlogloss:0.640643\n",
      "[84]\ttrain-mlogloss:0.600617\ttest-mlogloss:0.640618\n",
      "[85]\ttrain-mlogloss:0.599978\ttest-mlogloss:0.640508\n",
      "[86]\ttrain-mlogloss:0.599543\ttest-mlogloss:0.640508\n",
      "[87]\ttrain-mlogloss:0.599\ttest-mlogloss:0.640366\n",
      "[88]\ttrain-mlogloss:0.598339\ttest-mlogloss:0.640288\n",
      "[89]\ttrain-mlogloss:0.598064\ttest-mlogloss:0.640176\n",
      "[90]\ttrain-mlogloss:0.597315\ttest-mlogloss:0.640107\n",
      "[91]\ttrain-mlogloss:0.59678\ttest-mlogloss:0.640094\n",
      "[92]\ttrain-mlogloss:0.596127\ttest-mlogloss:0.639903\n",
      "[93]\ttrain-mlogloss:0.595609\ttest-mlogloss:0.639777\n",
      "[94]\ttrain-mlogloss:0.594893\ttest-mlogloss:0.639677\n",
      "[95]\ttrain-mlogloss:0.594478\ttest-mlogloss:0.639548\n",
      "[96]\ttrain-mlogloss:0.594062\ttest-mlogloss:0.639508\n",
      "[97]\ttrain-mlogloss:0.593496\ttest-mlogloss:0.639412\n",
      "[98]\ttrain-mlogloss:0.592821\ttest-mlogloss:0.639294\n",
      "[99]\ttrain-mlogloss:0.592281\ttest-mlogloss:0.63924\n",
      "[100]\ttrain-mlogloss:0.591798\ttest-mlogloss:0.639088\n",
      "[101]\ttrain-mlogloss:0.591018\ttest-mlogloss:0.638949\n",
      "[102]\ttrain-mlogloss:0.590514\ttest-mlogloss:0.638794\n",
      "[103]\ttrain-mlogloss:0.589898\ttest-mlogloss:0.638756\n",
      "[104]\ttrain-mlogloss:0.58938\ttest-mlogloss:0.6388\n",
      "[105]\ttrain-mlogloss:0.588929\ttest-mlogloss:0.638767\n",
      "[106]\ttrain-mlogloss:0.588441\ttest-mlogloss:0.638702\n",
      "[107]\ttrain-mlogloss:0.587973\ttest-mlogloss:0.638571\n",
      "[108]\ttrain-mlogloss:0.587493\ttest-mlogloss:0.638507\n",
      "[109]\ttrain-mlogloss:0.587034\ttest-mlogloss:0.63837\n",
      "[110]\ttrain-mlogloss:0.586632\ttest-mlogloss:0.638365\n",
      "[111]\ttrain-mlogloss:0.586003\ttest-mlogloss:0.638241\n",
      "[112]\ttrain-mlogloss:0.585602\ttest-mlogloss:0.638191\n",
      "[113]\ttrain-mlogloss:0.584908\ttest-mlogloss:0.638031\n",
      "[114]\ttrain-mlogloss:0.584376\ttest-mlogloss:0.637933\n",
      "[115]\ttrain-mlogloss:0.583937\ttest-mlogloss:0.637984\n",
      "[116]\ttrain-mlogloss:0.583543\ttest-mlogloss:0.637858\n",
      "[117]\ttrain-mlogloss:0.583033\ttest-mlogloss:0.637799\n",
      "[118]\ttrain-mlogloss:0.582524\ttest-mlogloss:0.637772\n",
      "[119]\ttrain-mlogloss:0.582059\ttest-mlogloss:0.637695\n",
      "[120]\ttrain-mlogloss:0.581534\ttest-mlogloss:0.63771\n",
      "[121]\ttrain-mlogloss:0.581083\ttest-mlogloss:0.6377\n",
      "[122]\ttrain-mlogloss:0.580782\ttest-mlogloss:0.637699\n",
      "[123]\ttrain-mlogloss:0.580384\ttest-mlogloss:0.63757\n",
      "[124]\ttrain-mlogloss:0.579927\ttest-mlogloss:0.637648\n",
      "[125]\ttrain-mlogloss:0.579463\ttest-mlogloss:0.637558\n",
      "[126]\ttrain-mlogloss:0.578885\ttest-mlogloss:0.637445\n",
      "[127]\ttrain-mlogloss:0.578563\ttest-mlogloss:0.637491\n",
      "[128]\ttrain-mlogloss:0.578158\ttest-mlogloss:0.637581\n",
      "[129]\ttrain-mlogloss:0.577688\ttest-mlogloss:0.637672\n",
      "[130]\ttrain-mlogloss:0.577171\ttest-mlogloss:0.637708\n",
      "[131]\ttrain-mlogloss:0.576879\ttest-mlogloss:0.637782\n",
      "[132]\ttrain-mlogloss:0.57648\ttest-mlogloss:0.637778\n",
      "[133]\ttrain-mlogloss:0.576031\ttest-mlogloss:0.637906\n",
      "[134]\ttrain-mlogloss:0.57559\ttest-mlogloss:0.637891\n",
      "[135]\ttrain-mlogloss:0.575204\ttest-mlogloss:0.637929\n",
      "[136]\ttrain-mlogloss:0.574736\ttest-mlogloss:0.637896\n",
      "[137]\ttrain-mlogloss:0.574198\ttest-mlogloss:0.637932\n",
      "[138]\ttrain-mlogloss:0.573725\ttest-mlogloss:0.637891\n",
      "[139]\ttrain-mlogloss:0.573468\ttest-mlogloss:0.637906\n",
      "[140]\ttrain-mlogloss:0.573185\ttest-mlogloss:0.637904\n",
      "[141]\ttrain-mlogloss:0.57268\ttest-mlogloss:0.637967\n",
      "[142]\ttrain-mlogloss:0.572292\ttest-mlogloss:0.63797\n",
      "[143]\ttrain-mlogloss:0.57187\ttest-mlogloss:0.637896\n",
      "[144]\ttrain-mlogloss:0.571535\ttest-mlogloss:0.637951\n",
      "[145]\ttrain-mlogloss:0.571121\ttest-mlogloss:0.637979\n",
      "[146]\ttrain-mlogloss:0.570724\ttest-mlogloss:0.637938\n",
      "Stopping. Best iteration:\n",
      "[126]\ttrain-mlogloss:0.578885\ttest-mlogloss:0.637445\n",
      "\n",
      "[0.63793843570894893]\n"
     ]
    }
   ],
   "source": [
    "cv_scores = []\n",
    "kf = model_selection.KFold(n_splits=5, shuffle=True, random_state=2016)\n",
    "for dev_index, val_index in kf.split(range(train_X.shape[0])):\n",
    "        print(dev_index)\n",
    "        print(type(train_X))\n",
    "        print(type(train_y))\n",
    "        dev_X, val_X = train_X.iloc[dev_index], train_X.iloc[val_index]\n",
    "        dev_y, val_y = train_y.iloc[dev_index], train_y.iloc[val_index]\n",
    "        preds, model = runXGB(dev_X, dev_y, val_X, val_y)\n",
    "        cv_scores.append(log_loss(val_y, preds))\n",
    "        print(cv_scores)\n",
    "        break"
   ]
  },
  {
   "cell_type": "code",
   "execution_count": 29,
   "metadata": {
    "collapsed": false
   },
   "outputs": [],
   "source": []
  },
  {
   "cell_type": "code",
   "execution_count": null,
   "metadata": {
    "collapsed": true
   },
   "outputs": [],
   "source": []
  }
 ],
 "metadata": {
  "kernelspec": {
   "display_name": "Python 3",
   "language": "python",
   "name": "python3"
  },
  "language_info": {
   "codemirror_mode": {
    "name": "ipython",
    "version": 3
   },
   "file_extension": ".py",
   "mimetype": "text/x-python",
   "name": "python",
   "nbconvert_exporter": "python",
   "pygments_lexer": "ipython3",
   "version": "3.6.0"
  }
 },
 "nbformat": 4,
 "nbformat_minor": 2
}
