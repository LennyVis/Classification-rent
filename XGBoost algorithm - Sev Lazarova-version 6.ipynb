{
 "cells": [
  {
   "cell_type": "markdown",
   "metadata": {},
   "source": [
    "## Preparing the data set\n",
    "\n",
    "The first step before running the clustering algorithm is to prepare the training and the testing data set. \n"
   ]
  },
  {
   "cell_type": "code",
   "execution_count": 1,
   "metadata": {
    "collapsed": false
   },
   "outputs": [],
   "source": [
    "import pandas as pd\n",
    "import numpy as np\n",
    "import matplotlib.pyplot as plt\n",
    "import seaborn as sns\n",
    "import warnings\n",
    "warnings.filterwarnings('ignore')\n",
    "\n",
    "sns.set(style=\"whitegrid\", color_codes=True)\n",
    "sns.palplot(sns.color_palette(\"RdBu\", n_colors=7))\n",
    "\n",
    "fileNameTrain = \"C:\\\\Users\\\\sevda\\\\Documents\\\\Data Lab\\\\Six sigma rental property\\\\train.json\\\\train.json\"\n",
    "train_df = pd.read_json(fileNameTrain)\n",
    "\n",
    "fileNameTest = \"C:\\\\Users\\\\sevda\\\\Documents\\\\Data Lab\\\\Six sigma rental property\\\\test.json\\\\test.json\"\n",
    "test_df = pd.read_json(fileNameTest)\n",
    "\n"
   ]
  },
  {
   "cell_type": "markdown",
   "metadata": {},
   "source": [
    "As a next step, we will extract the key words from the description variable - by key words, we define words that are in the description of the unit but are not stop words as defined by the ntlk.corpus package."
   ]
  },
  {
   "cell_type": "code",
   "execution_count": 2,
   "metadata": {
    "collapsed": true
   },
   "outputs": [],
   "source": [
    "from nltk.corpus import stopwords\n",
    "\n",
    "cachedStopWords = stopwords.words(\"english\")\n",
    "\n",
    "description_key_words_ls = []\n",
    "\n",
    "for ind, row in train_df.iterrows():\n",
    "        #print(row['features'])\n",
    "        #description = description.lower()\n",
    "        description = row['description'].lower().rstrip(',?!.')\n",
    "        description = ' '.join([word for word in description.split() if word not in cachedStopWords])\n",
    "        description_ls = description.split(\" \")\n",
    "        description_key_words_ls += [description_ls]\n",
    "\n",
    "train_df['description_key_words'] = pd.Series(description_key_words_ls, index=train_df.index)\n",
    "\n",
    "description_key_words_ls = []\n",
    "\n",
    "for ind, row in test_df.iterrows():\n",
    "        #print(row['features'])\n",
    "        #description = description.lower()\n",
    "        description = row['description'].lower().rstrip(',?!.')\n",
    "        description = ' '.join([word for word in description.split() if word not in cachedStopWords])\n",
    "        description_ls = description.split(\" \")\n",
    "        description_key_words_ls += [description_ls]\n",
    "\n",
    "test_df['description_key_words'] = pd.Series(description_key_words_ls, index=test_df.index)"
   ]
  },
  {
   "cell_type": "markdown",
   "metadata": {},
   "source": [
    "We will create two numeric variables which describe the number of features and number of key words in the description section"
   ]
  },
  {
   "cell_type": "code",
   "execution_count": 3,
   "metadata": {
    "collapsed": true
   },
   "outputs": [],
   "source": [
    "train_df['num_features'] = train_df.features.apply(len)\n",
    "train_df['num_key_words_description'] = train_df.description_key_words.apply(len)\n",
    "\n",
    "test_df['num_features'] = test_df.features.apply(len)\n",
    "test_df['num_key_words_description'] = test_df.description_key_words.apply(len)"
   ]
  },
  {
   "cell_type": "markdown",
   "metadata": {},
   "source": [
    "We will further our analysis of the description variable by adding sentiment which is an assessment of the tone of the rental post - negative, positive or neutral."
   ]
  },
  {
   "cell_type": "code",
   "execution_count": null,
   "metadata": {
    "collapsed": true
   },
   "outputs": [],
   "source": [
    "from nltk.sentiment.vader import SentimentIntensityAnalyzer\n",
    "from nltk.tokenize import sent_tokenize\n",
    "\n",
    "def description_sentiment(sentences):\n",
    "    analyzer = SentimentIntensityAnalyzer()\n",
    "    result = []\n",
    "    for sentence in sentences:\n",
    "        vs = analyzer.polarity_scores(sentence)\n",
    "        result.append(vs)\n",
    "    return pd.DataFrame(result).mean()\n",
    "\n",
    "#sdf = train_df.sample(5000)\n",
    "train_df['description_tokens'] = train_df['description'].apply(sent_tokenize)\n",
    "train_df = pd.concat([train_df,train_df['description_tokens'].apply(description_sentiment)],axis=1)\n",
    "\n",
    "test_df['description_tokens'] = test_df['description'].apply(sent_tokenize)\n",
    "test_df = pd.concat([test_df,test_df['description_tokens'].apply(description_sentiment)],axis=1)"
   ]
  },
  {
   "cell_type": "markdown",
   "metadata": {},
   "source": [
    "From the Created variable, we will extract into new variables the exact data when the listing was created, the day of year, week of year, weekday and hour."
   ]
  },
  {
   "cell_type": "code",
   "execution_count": 4,
   "metadata": {
    "collapsed": true
   },
   "outputs": [],
   "source": [
    "train_df[\"created\"] = pd.to_datetime(train_df[\"created\"])\n",
    "train_df[\"date\"]= train_df[\"created\"].dt.date\n",
    "\n",
    "train_df[\"dayofyear\"] = train_df[\"created\"].dt.dayofyear\n",
    "train_df[\"weekofyear\"] = train_df[\"created\"].dt.weekofyear\n",
    "train_df[\"weekday\"] = train_df[\"created\"].dt.weekday\n",
    "train_df[\"hour\"] = train_df[\"created\"].dt.hour\n",
    "\n",
    "test_df[\"created\"] = pd.to_datetime(test_df[\"created\"])\n",
    "test_df[\"date\"]= test_df[\"created\"].dt.date\n",
    "\n",
    "test_df[\"dayofyear\"] = test_df[\"created\"].dt.dayofyear\n",
    "test_df[\"weekofyear\"] = test_df[\"created\"].dt.weekofyear\n",
    "test_df[\"weekday\"] = test_df[\"created\"].dt.weekday\n",
    "test_df[\"hour\"] = test_df[\"created\"].dt.hour"
   ]
  },
  {
   "cell_type": "markdown",
   "metadata": {},
   "source": [
    "We will also add the number of photos of each listing as a new variable in the training and testing dataframe."
   ]
  },
  {
   "cell_type": "code",
   "execution_count": 5,
   "metadata": {
    "collapsed": false
   },
   "outputs": [],
   "source": [
    "train_df[\"num_photos\"] = train_df[\"photos\"].apply(len)\n",
    "test_df[\"num_photos\"] = test_df[\"photos\"].apply(len)\n"
   ]
  },
  {
   "cell_type": "markdown",
   "metadata": {},
   "source": [
    "Another step is to create two variables which describe the price per bathroom and price per bedroom. "
   ]
  },
  {
   "cell_type": "code",
   "execution_count": 6,
   "metadata": {
    "collapsed": false
   },
   "outputs": [],
   "source": [
    "train_df[\"price_per_bathroom\"] = train_df[\"price\"]/train_df[\"bathrooms\"]\n",
    "train_df[\"price_per_bedroom\"] = train_df[\"price\"]/(train_df[\"bedrooms\"] + 1)\n",
    "\n",
    "test_df[\"price_per_bathroom\"] = test_df[\"price\"]/test_df[\"bathrooms\"]\n",
    "test_df[\"price_per_bedroom\"] = test_df[\"price\"]/(test_df[\"bedrooms\"] + 1)"
   ]
  },
  {
   "cell_type": "markdown",
   "metadata": {},
   "source": [
    "We will also use the building id as a unique identifier of the building and the building itself affects the interest level."
   ]
  },
  {
   "cell_type": "code",
   "execution_count": 7,
   "metadata": {
    "collapsed": false
   },
   "outputs": [],
   "source": [
    "from sklearn import preprocessing\n",
    "\n",
    "lbl = preprocessing.LabelEncoder()\n",
    "lbl.fit(list(train_df['building_id'].values) + list(test_df['building_id'].values))\n",
    "train_df['building_id'] = lbl.transform(list(train_df['building_id'].values))\n",
    "\n",
    "test_df['building_id'] = lbl.transform(list(test_df['building_id'].values))"
   ]
  },
  {
   "cell_type": "markdown",
   "metadata": {},
   "source": [
    "We will count how many rental units per building are available for rent. "
   ]
  },
  {
   "cell_type": "code",
   "execution_count": 8,
   "metadata": {
    "collapsed": true
   },
   "outputs": [],
   "source": [
    "building_id_group_by = train_df[[\"street_address\", \"building_id\"]].groupby([\"building_id\"]).count()\n",
    "building_id_group_by = building_id_group_by.add_suffix('_count').reset_index()\n",
    "\n",
    "train_df = train_df.merge(building_id_group_by, left_on=['building_id'], right_on=['building_id'], how='inner')\n",
    "test_df = test_df.merge(building_id_group_by, left_on=['building_id'], right_on=['building_id'], how='inner')"
   ]
  },
  {
   "cell_type": "markdown",
   "metadata": {},
   "source": [
    "Some buildings are more often seen in rental ads than others. We will introduce a number of few variables which describe how often the building is been seen in a rental post."
   ]
  },
  {
   "cell_type": "markdown",
   "metadata": {},
   "source": [
    "As a next step in the data preparation, we will explore furthere the description of the rentals."
   ]
  },
  {
   "cell_type": "code",
   "execution_count": 9,
   "metadata": {
    "collapsed": false
   },
   "outputs": [],
   "source": [
    "import shapefile\n",
    "\n",
    "sf = shapefile.Reader(\"C:\\\\Users\\\\sevda\\\\Documents\\\\Data Lab\\\\Six sigma rental property\\\\ZillowNeighborhoods-NY\\\\ZillowNeighborhoods-NY.shp\")\n",
    "\n",
    "shapes = sf.shapes()\n",
    "records = sf.records()\n",
    "\n",
    "towns_values = [records[i][2] for i in range(len(records))]\n",
    "neighb_values = [records[i][3] for i in range(len(records))]\n",
    "west_values = [shapes[i].bbox[0] for i in range(len(records))]\n",
    "south_values = [shapes[i].bbox[1] for i in range(len(records))]\n",
    "east_values = [shapes[i].bbox[2] for i in range(len(records))]\n",
    "north_values = [shapes[i].bbox[3] for i in range(len(records))]\n",
    "\n",
    "west, south, east, north = -74.02, 40.64, -73.85, 40.86\n",
    "\n",
    "neighbourhood_pd = pd.DataFrame({'Town' : towns_values,\n",
    "                                 'Neighbourhood' : neighb_values,\n",
    "                                 'West' : west_values,\n",
    "                                 'South' : south_values,\n",
    "                                 'East' : east_values,\n",
    "                                 'North' : north_values})\n",
    "\n",
    "neighbourhood_pd = neighbourhood_pd[neighbourhood_pd.Town == \"New York\"]\n",
    "neighbourhood_pd = neighbourhood_pd.ix[(neighbourhood_pd.West >= west) & \n",
    "                                     (neighbourhood_pd.East <= east) & \n",
    "                                     (neighbourhood_pd.South >= south) & \n",
    "                                     (neighbourhood_pd.North <= north)]\n",
    "\n",
    "neighbourhood_sorted_pd = neighbourhood_pd.sort_values(['West'])\n",
    "\n",
    "\n",
    "neighbourhood_ls = []\n",
    "for num in range(0, train_df.shape[0]):\n",
    "    temp = neighbourhood_sorted_pd[(neighbourhood_sorted_pd.West<train_df.longitude.values[num]) &\n",
    "                                   (neighbourhood_sorted_pd.East>train_df.longitude.values[num]) &\n",
    "                                   (neighbourhood_sorted_pd.South<train_df.latitude.values[num]) &\n",
    "                                   (neighbourhood_sorted_pd.North>train_df.latitude.values[num])]\n",
    "    if temp.shape[0] > 0:\n",
    "        neighbourhood_ls += [temp.Neighbourhood.values[0]]\n",
    "    else:\n",
    "        neighbourhood_ls += [\"Other\"]\n",
    "    \n",
    "train_df['neighbourhood'] = pd.Series(neighbourhood_ls, index=train_df.index)\n",
    "\n",
    "neighbourhood_ls = []\n",
    "for num in range(0, test_df.shape[0]):\n",
    "    temp = neighbourhood_sorted_pd[(neighbourhood_sorted_pd.West<test_df.longitude.values[num]) &\n",
    "                                   (neighbourhood_sorted_pd.East>test_df.longitude.values[num]) &\n",
    "                                   (neighbourhood_sorted_pd.South<test_df.latitude.values[num]) &\n",
    "                                   (neighbourhood_sorted_pd.North>test_df.latitude.values[num])]\n",
    "    if temp.shape[0] > 0:\n",
    "        neighbourhood_ls += [temp.Neighbourhood.values[0]]\n",
    "    else:\n",
    "        neighbourhood_ls += [\"Other\"]\n",
    "    \n",
    "test_df['neighbourhood'] = pd.Series(neighbourhood_ls, index=test_df.index)"
   ]
  },
  {
   "cell_type": "code",
   "execution_count": 9,
   "metadata": {
    "collapsed": false
   },
   "outputs": [],
   "source": [
    "#train_df = train_df.drop([\"price_median_x\", \"price_median_y\", \"price_diff\"], axis=1)\n",
    "#test_df = test_df.drop([\"price_median_x\", \"price_median_y\", \"price_diff\"], axis=1)\n",
    "\n",
    "train_group_by = train_df[[\"bedrooms\", \"neighbourhood\", \"price\"]].groupby([\"bedrooms\", \"neighbourhood\"]).median()\n",
    "train_group_by = train_group_by.add_suffix('_median').reset_index()\n",
    "\n",
    "train_df = train_df.merge(train_group_by, left_on=['bedrooms', 'neighbourhood'], right_on=['bedrooms', 'neighbourhood'], how='inner')\n",
    "test_df = test_df.merge(train_group_by, left_on=['bedrooms', 'neighbourhood'], right_on=['bedrooms', 'neighbourhood'], how='inner')\n",
    "\n",
    "train_df[\"price_diff\"] = train_df[\"price\"] - train_df[\"price_median\"]\n",
    "test_df[\"price_diff\"] = test_df[\"price\"] - test_df[\"price_median\"]\n"
   ]
  },
  {
   "cell_type": "markdown",
   "metadata": {},
   "source": [
    "We will use the modelXGBfit function to run the model. The function defines some of the paramteres needed by the xgboost algorithm. We will apply the algorithm to the train data set with the pre selected variables and target variable \"interest_level\"."
   ]
  },
  {
   "cell_type": "code",
   "execution_count": 10,
   "metadata": {
    "collapsed": false
   },
   "outputs": [
    {
     "name": "stderr",
     "output_type": "stream",
     "text": [
      "C:\\Users\\sevda\\Anaconda3\\lib\\site-packages\\sklearn\\cross_validation.py:44: DeprecationWarning: This module was deprecated in version 0.18 in favor of the model_selection module into which all the refactored classes and functions are moved. Also note that the interface of the new CV iterators are different from that of this module. This module will be removed in 0.20.\n",
      "  \"This module will be removed in 0.20.\", DeprecationWarning)\n",
      "C:\\Users\\sevda\\Anaconda3\\lib\\site-packages\\sklearn\\grid_search.py:43: DeprecationWarning: This module was deprecated in version 0.18 in favor of the model_selection module into which all the refactored classes and functions are moved. This module will be removed in 0.20.\n",
      "  DeprecationWarning)\n"
     ]
    }
   ],
   "source": [
    "import xgboost as xgb\n",
    "from xgboost.sklearn import XGBClassifier\n",
    "from sklearn import cross_validation, metrics   #Additional scklearn functions\n",
    "from sklearn.grid_search import GridSearchCV   #Perforing grid search\n",
    "\n",
    "alg = XGBClassifier(\n",
    "                     learning_rate =0.1,\n",
    "                     n_estimators=1000,\n",
    "                     max_depth=5,\n",
    "                     min_child_weight=1,\n",
    "                     gamma=0,\n",
    "                     subsample=0.8,\n",
    "                     colsample_bytree=0.8,\n",
    "                     objective= 'multi:softprob; num_class=3',\n",
    "                     nthread=4,\n",
    "                     scale_pos_weight=1,\n",
    "                     seed=27)\n",
    "    \n",
    "def modelXGBfit(alg, train_df, test_df, predictors, target, target_num_map, cv_folds=5, early_stopping_rounds=50):\n",
    "    \n",
    "   \n",
    "    \n",
    "    #Fit the algorithm on the data\n",
    "    #alg.set_params(n_estimators = 3)\n",
    "    train_target = pd.DataFrame(train_df['interest_level'].apply(lambda x: target_num_map[x]))\n",
    "    alg.fit(train_df[predictors], train_target)\n",
    "        \n",
    "    #Predict training set:\n",
    "    train_predictions = alg.predict(train_df[predictors])\n",
    "    train_predprob = alg.predict_proba(train_df[predictors])\n",
    "        \n",
    "    #Print model report:\n",
    "    print (\"\\nModel Report\")\n",
    "    print (\"Accuracy : %.4g\" % metrics.accuracy_score(train_target, train_predictions))\n",
    "                    \n",
    "    feat_imp = pd.Series(alg.booster().get_fscore()).sort_values(ascending=False)\n",
    "    feat_imp.plot(kind='bar', title='Feature Importances')\n",
    "    plt.ylabel('Feature Importance Score')\n",
    "    plt.show()\n",
    "    \n",
    "    #Predicting on the test data set\n",
    "    test_predictions = alg.predict(test_df[predictors])\n",
    "    test_predprob = alg.predict_proba(test_df[predictors])\n",
    "    return test_predictions, test_predprob, alg\n"
   ]
  },
  {
   "cell_type": "code",
   "execution_count": 22,
   "metadata": {
    "collapsed": false
   },
   "outputs": [
    {
     "name": "stdout",
     "output_type": "stream",
     "text": [
      "\n",
      "Model Report\n",
      "Accuracy : 0.879\n"
     ]
    },
    {
     "data": {
      "image/png": "[encoded data removed]",
      "text/plain": [
       "<matplotlib.figure.Figure at 0x241deeea4a8>"
      ]
     },
     "metadata": {},
     "output_type": "display_data"
    }
   ],
   "source": [
    "selected_vars  = [\"price\", \"price_diff\", \"num_features\", \"num_key_words_description\",\n",
    "                   \"dayofyear\", \"weekday\", \"hour\", \"num_photos\", \"latitude\", \"longitude\",\n",
    "                    \"price_per_bedroom\", \"price_per_bathroom\", \"neg\", \"neu\", \"street_address_count\"]\n",
    "\n",
    "#neighbourhood_dummies = list(set(neighbourhood_dummies_train) & set(neighbourhood_dummies_test))\n",
    "#selected_vars.extend(list(neighbourhood_dummies))\n",
    "\n",
    "target = \"interest_level\"\n",
    "target_num_map = {'high':0, 'medium':1, 'low':2}\n",
    "\n",
    "test_prediction, test_predprob, alg = modelXGBfit (alg, train_df, test_df, selected_vars, target, target_num_map)"
   ]
  },
  {
   "cell_type": "markdown",
   "metadata": {},
   "source": [
    "Based on the XGBoost algorithm which was trained on the train_df data set, we can see that the trained model has accuracy of 81%. And the strongest predictors used by the model are: price, nm of key words in the desciption (or in other words how long is the description when the stp wprds are removed), day of the year, number of features, hour. Weekday, bedrooms and bathrooms are with less important function when predicting the probabilities the interest level."
   ]
  },
  {
   "cell_type": "code",
   "execution_count": 23,
   "metadata": {
    "collapsed": false
   },
   "outputs": [
    {
     "name": "stdout",
     "output_type": "stream",
     "text": [
      "       high    medium       low  listing_id\n",
      "0  0.060783  0.525020  0.414197     7142618\n",
      "1  0.034343  0.215648  0.750009     6840659\n",
      "2  0.019172  0.167860  0.812968     6812965\n",
      "3  0.006921  0.042992  0.950087     6854687\n",
      "4  0.072307  0.699580  0.228112     6927417\n"
     ]
    }
   ],
   "source": [
    "out_df = pd.DataFrame(test_predprob)\n",
    "out_df.columns = [\"high\", \"medium\", \"low\"]\n",
    "out_df[\"listing_id\"] = test_df.listing_id.values\n",
    "print(out_df.head())"
   ]
  },
  {
   "cell_type": "markdown",
   "metadata": {},
   "source": [
    "As a next step we will perform cross validation and some fine tuning to the parameters of XGBoost."
   ]
  },
  {
   "cell_type": "markdown",
   "metadata": {},
   "source": [
    "##Tune max_depth and min_child_weight\n",
    "\n",
    "Both parameters are important in the model performance and that's the reason we start with them."
   ]
  },
  {
   "cell_type": "code",
   "execution_count": 24,
   "metadata": {
    "collapsed": false
   },
   "outputs": [
    {
     "data": {
      "text/plain": [
       "([mean: -0.62262, std: 0.00720, params: {'max_depth': 3, 'min_child_weight': 1},\n",
       "  mean: -0.62270, std: 0.00730, params: {'max_depth': 3, 'min_child_weight': 3},\n",
       "  mean: -0.62282, std: 0.00750, params: {'max_depth': 3, 'min_child_weight': 5},\n",
       "  mean: -0.64830, std: 0.03180, params: {'max_depth': 7, 'min_child_weight': 1},\n",
       "  mean: -0.64669, std: 0.02976, params: {'max_depth': 7, 'min_child_weight': 3},\n",
       "  mean: -0.64387, std: 0.02833, params: {'max_depth': 7, 'min_child_weight': 5},\n",
       "  mean: -0.69064, std: 0.04568, params: {'max_depth': 11, 'min_child_weight': 1},\n",
       "  mean: -0.68507, std: 0.04682, params: {'max_depth': 11, 'min_child_weight': 3},\n",
       "  mean: -0.68241, std: 0.04491, params: {'max_depth': 11, 'min_child_weight': 5}],\n",
       " {'max_depth': 3, 'min_child_weight': 1},\n",
       " -0.6226202731932451)"
      ]
     },
     "execution_count": 24,
     "metadata": {},
     "output_type": "execute_result"
    }
   ],
   "source": [
    "param_test1 = {\n",
    " 'max_depth': [3, 7, 11],\n",
    " 'min_child_weight': [1, 3, 5]\n",
    "}\n",
    "\n",
    "#selected_vars  = [\"bathrooms\", \"bedrooms\", \"price\", \"num_features\", \"num_key_words_description\",\n",
    "#                   \"dayofyear\", \"weekofyear\", \"weekday\", \"hour\", \"num_photos\", \"latitude\", \"longitude\"]\n",
    "\n",
    "#target = \"interest_level\"\n",
    "#target_num_map = {'high':0, 'medium':1, 'low':2}\n",
    "\n",
    "train_target = pd.DataFrame(train_df['interest_level'].apply(lambda x: target_num_map[x]))\n",
    "    \n",
    "gsearch1 = GridSearchCV(estimator = XGBClassifier( learning_rate =0.1, n_estimators=140, max_depth=5,\n",
    " min_child_weight=1, gamma=0, subsample=0.8, colsample_bytree=0.8,\n",
    " objective= 'multi:softprob', nthread=4, scale_pos_weight=1, seed=27), \n",
    " param_grid = param_test1,scoring='log_loss', n_jobs=4,iid=False, cv=5)\n",
    "gsearch1.fit(train_df[selected_vars],train_target.values.flatten())\n",
    "gsearch1.grid_scores_, gsearch1.best_params_, gsearch1.best_score_"
   ]
  },
  {
   "cell_type": "markdown",
   "metadata": {},
   "source": [
    "We will try to further adjust the max_depth based oon the result by looking at other numbers around the final result 7. We will aslo try to adjust further th ethe min_child_weight which was initially set to 1."
   ]
  },
  {
   "cell_type": "code",
   "execution_count": 19,
   "metadata": {
    "collapsed": false
   },
   "outputs": [
    {
     "data": {
      "text/plain": [
       "([mean: -0.62618, std: 0.00864, params: {'max_depth': 2, 'min_child_weight': 1},\n",
       "  mean: -0.62634, std: 0.00855, params: {'max_depth': 2, 'min_child_weight': 2},\n",
       "  mean: -0.62620, std: 0.00869, params: {'max_depth': 2, 'min_child_weight': 3},\n",
       "  mean: -0.61935, std: 0.00863, params: {'max_depth': 3, 'min_child_weight': 1},\n",
       "  mean: -0.61984, std: 0.00908, params: {'max_depth': 3, 'min_child_weight': 2},\n",
       "  mean: -0.61984, std: 0.00887, params: {'max_depth': 3, 'min_child_weight': 3},\n",
       "  mean: -0.62077, std: 0.00993, params: {'max_depth': 4, 'min_child_weight': 1},\n",
       "  mean: -0.62078, std: 0.00927, params: {'max_depth': 4, 'min_child_weight': 2},\n",
       "  mean: -0.62071, std: 0.00999, params: {'max_depth': 4, 'min_child_weight': 3}],\n",
       " {'max_depth': 3, 'min_child_weight': 1},\n",
       " -0.619346391834458)"
      ]
     },
     "execution_count": 19,
     "metadata": {},
     "output_type": "execute_result"
    }
   ],
   "source": [
    "param_test1 = {\n",
    " 'max_depth': [2,3,4],\n",
    " 'min_child_weight': [1,2,3]\n",
    "}\n",
    "\n",
    "train_target = pd.DataFrame(train_df['interest_level'].apply(lambda x: target_num_map[x]))\n",
    "    \n",
    "gsearch1 = GridSearchCV(estimator = XGBClassifier( learning_rate =0.1, n_estimators=140, max_depth=5,\n",
    " min_child_weight=1, gamma=0, subsample=0.8, colsample_bytree=0.8,\n",
    " objective= 'multi:softprob', nthread=4, scale_pos_weight=1, seed=27), \n",
    " param_grid = param_test1,scoring='log_loss', n_jobs=4,iid=False, cv=5)\n",
    "gsearch1.fit(train_df[selected_vars],train_target.values.flatten())\n",
    "gsearch1.grid_scores_, gsearch1.best_params_, gsearch1.best_score_"
   ]
  },
  {
   "cell_type": "markdown",
   "metadata": {},
   "source": [
    "Since we've got as a result 8, we will try again with few other max depth values: 8,9,10 to see if we can find a better fit. The min_child_weight will be again 2 or 3"
   ]
  },
  {
   "cell_type": "code",
   "execution_count": 78,
   "metadata": {
    "collapsed": false
   },
   "outputs": [
    {
     "data": {
      "text/plain": [
       "([mean: -0.57434, std: 0.00501, params: {'max_depth': 8, 'min_child_weight': 3},\n",
       "  mean: -0.57441, std: 0.00481, params: {'max_depth': 8, 'min_child_weight': 4},\n",
       "  mean: -0.57426, std: 0.00482, params: {'max_depth': 8, 'min_child_weight': 5},\n",
       "  mean: -0.57535, std: 0.00521, params: {'max_depth': 9, 'min_child_weight': 3},\n",
       "  mean: -0.57537, std: 0.00530, params: {'max_depth': 9, 'min_child_weight': 4},\n",
       "  mean: -0.57570, std: 0.00512, params: {'max_depth': 9, 'min_child_weight': 5},\n",
       "  mean: -0.57981, std: 0.00509, params: {'max_depth': 10, 'min_child_weight': 3},\n",
       "  mean: -0.57851, std: 0.00609, params: {'max_depth': 10, 'min_child_weight': 4},\n",
       "  mean: -0.57746, std: 0.00582, params: {'max_depth': 10, 'min_child_weight': 5}],\n",
       " {'max_depth': 8, 'min_child_weight': 5},\n",
       " -0.5742567273672895)"
      ]
     },
     "execution_count": 78,
     "metadata": {},
     "output_type": "execute_result"
    }
   ],
   "source": [
    "param_test1 = {\n",
    " 'max_depth': [8,9,10],\n",
    " 'min_child_weight': [3,4,5]\n",
    "}\n",
    "\n",
    "train_target = pd.DataFrame(train_df['interest_level'].apply(lambda x: target_num_map[x]))\n",
    "    \n",
    "gsearch1 = GridSearchCV(estimator = XGBClassifier( learning_rate =0.1, n_estimators=140, max_depth=5,\n",
    " min_child_weight=1, gamma=0, subsample=0.8, colsample_bytree=0.8,\n",
    " objective= 'multi:softprob', nthread=4, scale_pos_weight=1, seed=27), \n",
    " param_grid = param_test1,scoring='log_loss', n_jobs=4,iid=False, cv=5)\n",
    "gsearch1.fit(train_df[selected_vars],train_target.values.flatten())\n",
    "gsearch1.grid_scores_, gsearch1.best_params_, gsearch1.best_score_"
   ]
  },
  {
   "cell_type": "markdown",
   "metadata": {},
   "source": [
    " From the results we can see that the optimal value for max depth is 8. Our cross validation was focused on consequitive values between 3 and 11. The optimal value for the minimum child weight is 1. The values for the minimum child weight that we considered were 1, 3 and 5. Since the optimum values are in the middle or the lower end of the intervals we have tested, we will accept max depth = 9 and min child weight = 5 as the best values and will proceed with the rest of the parameter tuning by using these values."
   ]
  },
  {
   "cell_type": "code",
   "execution_count": 21,
   "metadata": {
    "collapsed": false
   },
   "outputs": [
    {
     "data": {
      "text/plain": [
       "([mean: -0.61935, std: 0.00863, params: {'gamma': 0.0},\n",
       "  mean: -0.61934, std: 0.00863, params: {'gamma': 0.1},\n",
       "  mean: -0.61938, std: 0.00886, params: {'gamma': 0.2},\n",
       "  mean: -0.61964, std: 0.00870, params: {'gamma': 0.3},\n",
       "  mean: -0.61957, std: 0.00870, params: {'gamma': 0.4}],\n",
       " {'gamma': 0.1},\n",
       " -0.619343424086836)"
      ]
     },
     "execution_count": 21,
     "metadata": {},
     "output_type": "execute_result"
    }
   ],
   "source": [
    "param_test3 = {\n",
    " 'gamma':[i/10.0 for i in range(0,5)]\n",
    "}\n",
    "gsearch3 = GridSearchCV(estimator = XGBClassifier( learning_rate =0.1, n_estimators=140, max_depth=3,\n",
    " min_child_weight=1, gamma=0, subsample=0.8, colsample_bytree=0.8,\n",
    " objective= 'multi:softprob', nthread=4, scale_pos_weight=1,seed=27), \n",
    " param_grid = param_test3, scoring='log_loss', n_jobs=4,iid=False, cv=5)\n",
    "gsearch3.fit(train_df[selected_vars],train_target.values.flatten())\n",
    "gsearch3.grid_scores_, gsearch3.best_params_, gsearch3.best_score_"
   ]
  },
  {
   "cell_type": "markdown",
   "metadata": {},
   "source": [
    "We can see that the best gamma value for our data set is 0.1 and not 0 as we initially have selected. We will update the parameters and will run the whole model to see how the updated parameters have affected the final result."
   ]
  },
  {
   "cell_type": "code",
   "execution_count": 20,
   "metadata": {
    "collapsed": false
   },
   "outputs": [
    {
     "name": "stdout",
     "output_type": "stream",
     "text": [
      "\n",
      "Model Report\n",
      "Accuracy : 0.9714\n"
     ]
    },
    {
     "data": {
      "image/png": "[encoded data removed]",
      "text/plain": [
       "<matplotlib.figure.Figure at 0x2b9623aba20>"
      ]
     },
     "metadata": {},
     "output_type": "display_data"
    }
   ],
   "source": [
    "alg = XGBClassifier(\n",
    "                     learning_rate =0.1,\n",
    "                     n_estimators=1000,\n",
    "                     max_depth=7,\n",
    "                     min_child_weight=3,\n",
    "                     gamma=0,\n",
    "                     subsample=0.8,\n",
    "                     colsample_bytree=0.8,\n",
    "                     objective= 'multi:softprob; num_class=3',\n",
    "                     nthread=4,\n",
    "                     scale_pos_weight=1,\n",
    "                     seed=27)\n",
    "\n",
    "test_prediction, test_predprob, alg_result = modelXGBfit (alg, train_df, test_df, selected_vars, target, target_num_map)"
   ]
  },
  {
   "cell_type": "markdown",
   "metadata": {},
   "source": [
    "We can see that by adjusting the above parameters, we have increased the accuracy of the model from 0.8116 to 0.9751. As a next step we will adjust the \"subsample\" and \"colsample_bytree\" parameters."
   ]
  },
  {
   "cell_type": "code",
   "execution_count": 17,
   "metadata": {
    "collapsed": false
   },
   "outputs": [
    {
     "data": {
      "text/plain": [
       "([mean: -0.59472, std: 0.00580, params: {'colsample_bytree': 0.6, 'subsample': 0.6},\n",
       "  mean: -0.59550, std: 0.00563, params: {'colsample_bytree': 0.6, 'subsample': 0.7},\n",
       "  mean: -0.59310, std: 0.00588, params: {'colsample_bytree': 0.7, 'subsample': 0.6},\n",
       "  mean: -0.59288, std: 0.00526, params: {'colsample_bytree': 0.7, 'subsample': 0.7}],\n",
       " {'colsample_bytree': 0.7, 'subsample': 0.7},\n",
       " -0.5928809483851276)"
      ]
     },
     "execution_count": 17,
     "metadata": {},
     "output_type": "execute_result"
    }
   ],
   "source": [
    "param_test4 = {\n",
    " 'subsample':[i/10.0 for i in range(6,8)],\n",
    " 'colsample_bytree':[i/10.0 for i in range(6,8)]\n",
    "}\n",
    "gsearch4 = GridSearchCV(estimator = XGBClassifier( learning_rate =0.1, n_estimators=177, max_depth=8,\n",
    " min_child_weight=5, gamma=0, subsample=0.8, colsample_bytree=0.8,\n",
    " objective= 'multi:softprob', nthread=4, scale_pos_weight=1,seed=27), \n",
    " param_grid = param_test4, scoring='log_loss', n_jobs=4,iid=False, cv=5)\n",
    "gsearch4.fit(train_df[selected_vars],train_target.values.flatten())\n",
    "gsearch4.grid_scores_, gsearch4.best_params_, gsearch4.best_score_"
   ]
  },
  {
   "cell_type": "markdown",
   "metadata": {},
   "source": [
    "We found that the best values are \"colsample_bytree\" = 0.7 and subsample = 0.7. As a next step we will tune the regularization parameters. The next step is to tune the regularization parameters."
   ]
  },
  {
   "cell_type": "code",
   "execution_count": 66,
   "metadata": {
    "collapsed": false
   },
   "outputs": [
    {
     "data": {
      "text/plain": [
       "([mean: -0.57504, std: 0.00473, params: {'reg_alpha': 1e-05},\n",
       "  mean: -0.57536, std: 0.00493, params: {'reg_alpha': 0.01},\n",
       "  mean: -0.57547, std: 0.00477, params: {'reg_alpha': 0.1},\n",
       "  mean: -0.57504, std: 0.00412, params: {'reg_alpha': 1},\n",
       "  mean: -0.61614, std: 0.00366, params: {'reg_alpha': 100}],\n",
       " {'reg_alpha': 1e-05},\n",
       " -0.5750387445126164)"
      ]
     },
     "execution_count": 66,
     "metadata": {},
     "output_type": "execute_result"
    }
   ],
   "source": [
    "param_test6 = {\n",
    " 'reg_alpha':[1e-5, 1e-2, 0.1, 1, 100]\n",
    "}\n",
    "\n",
    "train_target = pd.DataFrame(train_df['interest_level'].apply(lambda x: target_num_map[x]))\n",
    "    \n",
    "gsearch6 = GridSearchCV(estimator = XGBClassifier( learning_rate =0.1, n_estimators=177, max_depth=7,\n",
    " min_child_weight=1, gamma=0.3, subsample=0.7, colsample_bytree=0.7,\n",
    " objective= 'multi:softprob', nthread=4, scale_pos_weight=1,seed=27), \n",
    " param_grid = param_test6, scoring='log_loss', n_jobs=4,iid=False, cv=5)\n",
    "gsearch6.fit(train_df[selected_vars],train_target.values.flatten())\n",
    "gsearch6.grid_scores_, gsearch6.best_params_, gsearch6.best_score_"
   ]
  },
  {
   "cell_type": "markdown",
   "metadata": {},
   "source": [
    "We've got a slight improvement in the cv score compared to the previous parameters. Since our reg_alpha values were pretty wide spread, we will focus on values around 1 to see if we can find an even better adjusted value for reg_alpha."
   ]
  },
  {
   "cell_type": "code",
   "execution_count": 20,
   "metadata": {
    "collapsed": false
   },
   "outputs": [
    {
     "data": {
      "text/plain": [
       "([mean: -0.59535, std: 0.00576, params: {'reg_alpha': 0.5},\n",
       "  mean: -0.59476, std: 0.00575, params: {'reg_alpha': 1},\n",
       "  mean: -0.59308, std: 0.00510, params: {'reg_alpha': 3},\n",
       "  mean: -0.59302, std: 0.00455, params: {'reg_alpha': 5},\n",
       "  mean: -0.59577, std: 0.00495, params: {'reg_alpha': 10}],\n",
       " {'reg_alpha': 5},\n",
       " -0.5930228275842985)"
      ]
     },
     "execution_count": 20,
     "metadata": {},
     "output_type": "execute_result"
    }
   ],
   "source": [
    "#Have to remove this code because we found alpha in the previous one\n",
    "param_test6 = {\n",
    " 'reg_alpha':[0.5, 1, 3, 5, 10]\n",
    "}\n",
    "gsearch6 = GridSearchCV(estimator = XGBClassifier( learning_rate =0.1, n_estimators=177, max_depth=9,\n",
    " min_child_weight=5, gamma=0, subsample=0.7, colsample_bytree=0.7,\n",
    " objective= 'multi:softprob', nthread=4, scale_pos_weight=1,seed=27), \n",
    " param_grid = param_test6, scoring='log_loss', n_jobs=4,iid=False, cv=5)\n",
    "gsearch6.fit(train_df[selected_vars],train_target.values.flatten())\n",
    "gsearch6.grid_scores_, gsearch6.best_params_, gsearch6.best_score_"
   ]
  },
  {
   "cell_type": "markdown",
   "metadata": {},
   "source": [
    "We can see that a better reg alpha parameter is 0.05 and it leads to slightly improvement in the cross validation results. Since we adjusted few more parameters of the model, it is time to see again our model performance. "
   ]
  },
  {
   "cell_type": "code",
   "execution_count": 67,
   "metadata": {
    "collapsed": false
   },
   "outputs": [
    {
     "name": "stdout",
     "output_type": "stream",
     "text": [
      "\n",
      "Model Report\n",
      "Accuracy : 0.9775\n"
     ]
    },
    {
     "data": {
      "image/png": "[encoded data removed]",
      "text/plain": [
       "<matplotlib.figure.Figure at 0x20c7f258668>"
      ]
     },
     "metadata": {},
     "output_type": "display_data"
    }
   ],
   "source": [
    "alg = XGBClassifier(\n",
    "                     learning_rate =0.1,\n",
    "                     n_estimators=1000,\n",
    "                     max_depth=7,\n",
    "                     min_child_weight=1,\n",
    "                     gamma=0.3,\n",
    "                     subsample=0.7,\n",
    "                     colsample_bytree=0.7,\n",
    "                     reg_alpha = 1e-05,\n",
    "                     objective= 'multi:softprob; num_class=3',\n",
    "                     nthread=4,\n",
    "                     scale_pos_weight=1,\n",
    "                     seed=27)\n",
    "\n",
    "test_prediction, test_predprob, alg_result = modelXGBfit (alg, train_df, test_df, selected_vars, target, target_num_map)"
   ]
  },
  {
   "cell_type": "code",
   "execution_count": 21,
   "metadata": {
    "collapsed": true
   },
   "outputs": [],
   "source": [
    "out_df = pd.DataFrame(test_predprob)\n",
    "out_df.columns = [\"high\", \"medium\", \"low\"]\n",
    "out_df[\"listing_id\"] = test_df.listing_id.values\n",
    "out_df.to_csv(\"xgb_starter_results_v5.csv\", index=False)"
   ]
  },
  {
   "cell_type": "code",
   "execution_count": null,
   "metadata": {
    "collapsed": true
   },
   "outputs": [],
   "source": []
  }
 ],
 "metadata": {
  "kernelspec": {
   "display_name": "Python 3",
   "language": "python",
   "name": "python3"
  },
  "language_info": {
   "codemirror_mode": {
    "name": "ipython",
    "version": 3
   },
   "file_extension": ".py",
   "mimetype": "text/x-python",
   "name": "python",
   "nbconvert_exporter": "python",
   "pygments_lexer": "ipython3",
   "version": "3.6.0"
  }
 },
 "nbformat": 4,
 "nbformat_minor": 2
}
